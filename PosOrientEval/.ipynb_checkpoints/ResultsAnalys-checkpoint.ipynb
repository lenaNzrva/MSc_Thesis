{
 "cells": [
  {
   "cell_type": "code",
   "execution_count": 1,
   "id": "e60a63bf-0598-4bd2-9b8c-31c0db46c5f6",
   "metadata": {},
   "outputs": [],
   "source": [
    "import numpy as np\n",
    "import matplotlib.pyplot as plt"
   ]
  },
  {
   "cell_type": "markdown",
   "id": "81e3f015-d0e8-4ca8-8ff7-f431ca6f8e33",
   "metadata": {},
   "source": [
    "## Normalization Function"
   ]
  },
  {
   "cell_type": "code",
   "execution_count": 2,
   "id": "90ac87b6-2c0f-4a8d-b8c4-7515b74d2d38",
   "metadata": {},
   "outputs": [],
   "source": [
    "def norm(x,y,z,gt_x,gt_y,gt_z):\n",
    "    \n",
    "    delta_x = gt_x-x\n",
    "    delta_y = gt_y-y\n",
    "    delta_z = gt_z-z\n",
    "\n",
    "    delta_std_x = np.std(delta_x)\n",
    "    delta_std_y = np.std(delta_y)\n",
    "    delta_std_z = np.std(delta_z)\n",
    "\n",
    "    delta_std_x,delta_std_y,delta_std_z\n",
    "\n",
    "    mean_delta_x = np.mean(delta_x)\n",
    "    mean_delta_y = np.mean(delta_y)\n",
    "    mean_delta_z = np.mean(delta_z)\n",
    "\n",
    "    mean_delta_x, mean_delta_y, mean_delta_z\n",
    "\n",
    "    norm_x = x + mean_delta_x\n",
    "    norm_y = y + mean_delta_y\n",
    "    norm_z = z + mean_delta_z\n",
    "    \n",
    "    return norm_x, norm_y, norm_z"
   ]
  },
  {
   "cell_type": "markdown",
   "id": "0d17a847-6129-4c12-8935-55e839aea2d4",
   "metadata": {},
   "source": [
    "## MSE Function\n",
    "https://statisticsbyjim.com/regression/mean-squared-error-mse/#:~:text=To%20find%20the%20MSE%2C%20take,by%20the%20number%20of%20observations."
   ]
  },
  {
   "cell_type": "code",
   "execution_count": 3,
   "id": "7c84b401-81c7-4310-a11a-eb11dbf858e4",
   "metadata": {},
   "outputs": [],
   "source": [
    "## MSE in mm\n",
    "\n",
    "def MSE_mm(norm_x, norm_y, norm_z, gt_x, gt_y, gt_z):\n",
    "    rank = 1000\n",
    "\n",
    "    MSE_X = ((np.sum((norm_x-gt_x)**2))/norm_x.shape[0]) * rank\n",
    "    MSE_Y = ((np.sum((norm_y-gt_y)**2))/norm_y.shape[0]) * rank\n",
    "    MSE_Z = ((np.sum((norm_z-gt_z)**2))/norm_z.shape[0]) * rank\n",
    "\n",
    "    return MSE_X, MSE_Y, MSE_Z"
   ]
  },
  {
   "cell_type": "markdown",
   "id": "89aeaa1e-153a-4add-9406-c57ddb0950fc",
   "metadata": {},
   "source": [
    "## X"
   ]
  },
  {
   "cell_type": "code",
   "execution_count": 4,
   "id": "fa97ab59-0e47-4af2-8b98-0df0902a3d59",
   "metadata": {},
   "outputs": [
    {
     "data": {
      "text/plain": [
       "((300,), (300,), (300,))"
      ]
     },
     "execution_count": 4,
     "metadata": {},
     "output_type": "execute_result"
    }
   ],
   "source": [
    "x = np.load(\"X/handX.npy\")\n",
    "y = np.load(\"X/handY.npy\")\n",
    "z = np.load(\"X/handZ.npy\")\n",
    "\n",
    "x.shape, y.shape, z.shape"
   ]
  },
  {
   "cell_type": "code",
   "execution_count": 5,
   "id": "97b643e5-9afa-4da2-b92b-1b5acf1d2d97",
   "metadata": {},
   "outputs": [
    {
     "data": {
      "text/plain": [
       "((300,), (300,), (300,))"
      ]
     },
     "execution_count": 5,
     "metadata": {},
     "output_type": "execute_result"
    }
   ],
   "source": [
    "gt_x = np.load(\"X/robotX.npy\")\n",
    "gt_y = np.load(\"X/robotY.npy\")\n",
    "gt_z = np.load(\"X/robotZ.npy\")\n",
    "\n",
    "gt_x.shape, gt_y.shape, gt_z.shape"
   ]
  },
  {
   "cell_type": "code",
   "execution_count": 6,
   "id": "dc558651-f6c9-45d1-9515-adfe7e47da92",
   "metadata": {},
   "outputs": [
    {
     "data": {
      "text/plain": [
       "[<matplotlib.lines.Line2D at 0x7ff8a8083a60>]"
      ]
     },
     "execution_count": 6,
     "metadata": {},
     "output_type": "execute_result"
    },
    {
     "data": {
      "image/png": "[encoded data removed]",
      "text/plain": [
       "<Figure size 432x288 with 1 Axes>"
      ]
     },
     "metadata": {
      "needs_background": "light"
     },
     "output_type": "display_data"
    }
   ],
   "source": [
    "# Not normal data\n",
    "plt.plot(x)\n",
    "plt.plot(y)\n",
    "plt.plot(z)\n",
    "\n",
    "plt.plot(gt_x)\n",
    "plt.plot(gt_y)\n",
    "plt.plot(gt_z)"
   ]
  },
  {
   "cell_type": "code",
   "execution_count": 7,
   "id": "875f5e37-47c5-4989-a6ae-dcbbf977ac58",
   "metadata": {},
   "outputs": [
    {
     "data": {
      "text/plain": [
       "[<matplotlib.lines.Line2D at 0x7ff8a782c100>]"
      ]
     },
     "execution_count": 7,
     "metadata": {},
     "output_type": "execute_result"
    },
    {
     "data": {
      "image/png": "[encoded data removed]",
      "text/plain": [
       "<Figure size 432x288 with 1 Axes>"
      ]
     },
     "metadata": {
      "needs_background": "light"
     },
     "output_type": "display_data"
    }
   ],
   "source": [
    "# Normal data\n",
    "norm_x, norm_y, norm_z = norm(x,y,z,gt_x,gt_y,gt_z)\n",
    "\n",
    "plt.plot(norm_x)\n",
    "plt.plot(norm_y)\n",
    "plt.plot(norm_z)\n",
    "\n",
    "plt.plot(gt_x)\n",
    "plt.plot(gt_y)\n",
    "plt.plot(gt_z)"
   ]
  },
  {
   "cell_type": "code",
   "execution_count": 8,
   "id": "18a9d5e1-ba34-4a26-8bdb-fffde8ed4813",
   "metadata": {},
   "outputs": [
    {
     "data": {
      "text/plain": [
       "(0.004961343893870535, 0.00045089231404000656, 0.05741086436803789)"
      ]
     },
     "execution_count": 8,
     "metadata": {},
     "output_type": "execute_result"
    }
   ],
   "source": [
    "# MSE in mm\n",
    "MSE_X, MSE_Y, MSE_Z = MSE_mm(norm_x, norm_y, norm_z, gt_x, gt_y, gt_z)\n",
    "MSE_X, MSE_Y, MSE_Z"
   ]
  },
  {
   "cell_type": "markdown",
   "id": "b3bc026e-2ebc-4972-8428-832f6d307d5c",
   "metadata": {},
   "source": [
    "## Y"
   ]
  },
  {
   "cell_type": "code",
   "execution_count": 9,
   "id": "c6b1afe2-f1d9-4149-9b92-f67b8230634c",
   "metadata": {},
   "outputs": [
    {
     "data": {
      "text/plain": [
       "((300,), (300,), (300,))"
      ]
     },
     "execution_count": 9,
     "metadata": {},
     "output_type": "execute_result"
    }
   ],
   "source": [
    "x = np.load(\"Y/handX.npy\")\n",
    "y = np.load(\"Y/handY.npy\")\n",
    "z = np.load(\"Y/handZ.npy\")\n",
    "\n",
    "x.shape, y.shape, z.shape"
   ]
  },
  {
   "cell_type": "code",
   "execution_count": 10,
   "id": "65ac45b5-c4f8-4722-bc27-dcbe465b6be9",
   "metadata": {},
   "outputs": [
    {
     "data": {
      "text/plain": [
       "((300,), (300,), (300,))"
      ]
     },
     "execution_count": 10,
     "metadata": {},
     "output_type": "execute_result"
    }
   ],
   "source": [
    "gt_x = np.load(\"Y/robotX.npy\")\n",
    "gt_y = np.load(\"Y/robotY.npy\")\n",
    "gt_z = np.load(\"Y/robotZ.npy\")\n",
    "\n",
    "gt_x.shape, gt_y.shape, gt_z.shape"
   ]
  },
  {
   "cell_type": "code",
   "execution_count": 11,
   "id": "b7d8b535-4f24-4200-b59a-9708c01a5fa9",
   "metadata": {},
   "outputs": [
    {
     "data": {
      "text/plain": [
       "[<matplotlib.lines.Line2D at 0x7ff8a77a14c0>]"
      ]
     },
     "execution_count": 11,
     "metadata": {},
     "output_type": "execute_result"
    },
    {
     "data": {
      "image/png": "[encoded data removed]",
      "text/plain": [
       "<Figure size 432x288 with 1 Axes>"
      ]
     },
     "metadata": {
      "needs_background": "light"
     },
     "output_type": "display_data"
    }
   ],
   "source": [
    "# Not normal data\n",
    "plt.plot(x)\n",
    "plt.plot(y)\n",
    "plt.plot(z)\n",
    "\n",
    "plt.plot(gt_x)\n",
    "plt.plot(gt_y)\n",
    "plt.plot(gt_z)"
   ]
  },
  {
   "cell_type": "code",
   "execution_count": 12,
   "id": "6bbef40c-7625-40ef-8432-65d920e53617",
   "metadata": {},
   "outputs": [
    {
     "data": {
      "text/plain": [
       "[<matplotlib.lines.Line2D at 0x7ff8a7711550>]"
      ]
     },
     "execution_count": 12,
     "metadata": {},
     "output_type": "execute_result"
    },
    {
     "data": {
      "image/png": "[encoded data removed]",
      "text/plain": [
       "<Figure size 432x288 with 1 Axes>"
      ]
     },
     "metadata": {
      "needs_background": "light"
     },
     "output_type": "display_data"
    }
   ],
   "source": [
    "# Normal data\n",
    "norm_x, norm_y, norm_z = norm(x,y,z,gt_x,gt_y,gt_z)\n",
    "\n",
    "plt.plot(norm_x)\n",
    "plt.plot(norm_y)\n",
    "plt.plot(norm_z)\n",
    "\n",
    "plt.plot(gt_x)\n",
    "plt.plot(gt_y)\n",
    "plt.plot(gt_z)"
   ]
  },
  {
   "cell_type": "code",
   "execution_count": 13,
   "id": "ac7cd31d-ddaf-4013-92ea-0126f9201351",
   "metadata": {},
   "outputs": [
    {
     "data": {
      "text/plain": [
       "(2.396954300371295e-05, 0.0027953502882739766, 0.002312848381563917)"
      ]
     },
     "execution_count": 13,
     "metadata": {},
     "output_type": "execute_result"
    }
   ],
   "source": [
    "# MSE in mm\n",
    "MSE_X, MSE_Y, MSE_Z = MSE_mm(norm_x, norm_y, norm_z, gt_x, gt_y, gt_z)\n",
    "MSE_X, MSE_Y, MSE_Z"
   ]
  },
  {
   "cell_type": "markdown",
   "id": "78f4c643-e35b-4912-86e4-69f329367320",
   "metadata": {},
   "source": [
    "## Z"
   ]
  },
  {
   "cell_type": "code",
   "execution_count": 14,
   "id": "550be2f2-c0a8-4aec-8e9b-82cb81acccd9",
   "metadata": {},
   "outputs": [
    {
     "data": {
      "text/plain": [
       "((300,), (300,), (300,))"
      ]
     },
     "execution_count": 14,
     "metadata": {},
     "output_type": "execute_result"
    }
   ],
   "source": [
    "x = np.load(\"Z/handX.npy\")\n",
    "y = np.load(\"Z/handY.npy\")\n",
    "z = np.load(\"Z/handZ.npy\")\n",
    "\n",
    "x.shape, y.shape, z.shape"
   ]
  },
  {
   "cell_type": "code",
   "execution_count": 15,
   "id": "bfca1656-6b58-4540-aecd-17c15ce33f0e",
   "metadata": {},
   "outputs": [
    {
     "data": {
      "text/plain": [
       "((300,), (300,), (300,))"
      ]
     },
     "execution_count": 15,
     "metadata": {},
     "output_type": "execute_result"
    }
   ],
   "source": [
    "gt_x = np.load(\"Z/robotX.npy\")\n",
    "gt_y = np.load(\"Z/robotY.npy\")\n",
    "gt_z = np.load(\"Z/robotZ.npy\")\n",
    "\n",
    "gt_x.shape, gt_y.shape, gt_z.shape"
   ]
  },
  {
   "cell_type": "code",
   "execution_count": 16,
   "id": "b2a65ff6-8bbd-4e1a-8bc0-335c7e97d514",
   "metadata": {},
   "outputs": [
    {
     "data": {
      "text/plain": [
       "[<matplotlib.lines.Line2D at 0x7ff8a76816d0>]"
      ]
     },
     "execution_count": 16,
     "metadata": {},
     "output_type": "execute_result"
    },
    {
     "data": {
      "image/png": "[encoded data removed]",
      "text/plain": [
       "<Figure size 432x288 with 1 Axes>"
      ]
     },
     "metadata": {
      "needs_background": "light"
     },
     "output_type": "display_data"
    }
   ],
   "source": [
    "# Not normal data\n",
    "plt.plot(x)\n",
    "plt.plot(y)\n",
    "plt.plot(z)\n",
    "\n",
    "plt.plot(gt_x)\n",
    "plt.plot(gt_y)\n",
    "plt.plot(gt_z)"
   ]
  },
  {
   "cell_type": "code",
   "execution_count": 17,
   "id": "14ce7ae1-c842-4978-adff-25429e4849c7",
   "metadata": {},
   "outputs": [
    {
     "data": {
      "text/plain": [
       "[<matplotlib.lines.Line2D at 0x7ff8a7670fa0>]"
      ]
     },
     "execution_count": 17,
     "metadata": {},
     "output_type": "execute_result"
    },
    {
     "data": {
      "image/png": "[encoded data removed]",
      "text/plain": [
       "<Figure size 432x288 with 1 Axes>"
      ]
     },
     "metadata": {
      "needs_background": "light"
     },
     "output_type": "display_data"
    }
   ],
   "source": [
    "# Normal data\n",
    "norm_x, norm_y, norm_z = norm(x,y,z,gt_x,gt_y,gt_z)\n",
    "\n",
    "plt.plot(norm_x)\n",
    "plt.plot(norm_y)\n",
    "plt.plot(norm_z)\n",
    "\n",
    "plt.plot(gt_x)\n",
    "plt.plot(gt_y)\n",
    "plt.plot(gt_z)"
   ]
  },
  {
   "cell_type": "code",
   "execution_count": 18,
   "id": "637ed2e4-33d0-4af2-8438-c0723e7fafbb",
   "metadata": {},
   "outputs": [
    {
     "data": {
      "text/plain": [
       "(0.10675294158449689, 0.02956751731712697, 0.026697966792987145)"
      ]
     },
     "execution_count": 18,
     "metadata": {},
     "output_type": "execute_result"
    }
   ],
   "source": [
    "# MSE in mm\n",
    "MSE_X, MSE_Y, MSE_Z = MSE_mm(norm_x, norm_y, norm_z, gt_x, gt_y, gt_z)\n",
    "MSE_X, MSE_Y, MSE_Z"
   ]
  },
  {
   "cell_type": "code",
   "execution_count": 1,
   "id": "fd1d2fa8-c62d-4982-a836-935c12c0aaaa",
   "metadata": {},
   "outputs": [],
   "source": [
    "import numpy as np\n",
    "import matplotlib.pyplot as plt\n",
    "import urx\n",
    "import cv2\n",
    "\n",
    "import sys\n",
    "sys.path.append('..')\n",
    "\n",
    "from utils.position.pose_estimation import PoseEstimation\n",
    "from utils.setup.setup import SetUp\n",
    "from utils.support import*"
   ]
  },
  {
   "cell_type": "code",
   "execution_count": 2,
   "id": "1894d2ad-2ed3-4e61-94eb-fdb795d1d480",
   "metadata": {
    "tags": []
   },
   "outputs": [
    {
     "name": "stderr",
     "output_type": "stream",
     "text": [
      "INFO: Created TensorFlow Lite XNNPACK delegate for CPU.\n"
     ]
    }
   ],
   "source": [
    "\n",
    "hands, mpDraw, mpHands = SetUp.mediapipe()\n",
    "W = 640\n",
    "H = 480\n",
    "pipeline, config, align = SetUp.camera(640, 480, 60)\n",
    "# cvFpsCalc = CvFpsCalc(buffer_len=10)\n",
    "poseEstimation = PoseEstimation(640, 480)\n",
    "# orientEstimation = OrientEstimation(640, 480)\n",
    "\n",
    "try:\n",
    "    pipeline.start(config)\n",
    "except:\n",
    "    pipeline.stop()\n",
    "    pipeline.start(config)\n",
    "\n",
    "times = 0   \n",
    "X, Y, Z = [],[],[]\n",
    "X_number = 0\n",
    "while times < 350:\n",
    "\n",
    "    frames = pipeline.wait_for_frames()\n",
    "    frames = align.process(frames)\n",
    "    depth_frame = frames.get_depth_frame()\n",
    "    color_frame = frames.get_color_frame()\n",
    "\n",
    "    depth_image = np.asanyarray(depth_frame.get_data())\n",
    "    color_image = np.asanyarray(color_frame.get_data())\n",
    "\n",
    "    dr_info = DrawInfo(color_image)\n",
    "\n",
    "    coordinates = hands.process(color_image).multi_hand_landmarks\n",
    "    if coordinates:\n",
    "        list_for_coordinates = []\n",
    "        for handLms in coordinates:\n",
    "            rect = Bounding_Rect(color_image, handLms)\n",
    "            brect, image = rect.draw()\n",
    "\n",
    "        mpDraw.draw_landmarks(color_image, handLms, mpHands.HAND_CONNECTIONS)\n",
    "        \n",
    "\n",
    "        x, y, z = poseEstimation.PoseStart(handLms, depth_frame)\n",
    "        X.append(x)\n",
    "        Y.append(y)\n",
    "        Z.append(z)\n",
    " \n",
    "        # pos = rob.get_pos()\n",
    "        # GT.append(pos.get_list())\n",
    "        \n",
    "        times += 1\n",
    "\n",
    "\n",
    "    # dr_info.FPS(fps)\n",
    "    cv2.imshow('RealSense', color_image)\n",
    "\n",
    "    if cv2.waitKey(1) & 0xFF == ord('q'):\n",
    "        cv2.destroyAllWindows()\n",
    "        pipeline.stop()\n",
    "        break\n",
    "\n",
    "try:        \n",
    "    cv2.destroyAllWindows()\n",
    "    pipeline.stop()\n",
    "    \n",
    "except:\n",
    "    pass"
   ]
  },
  {
   "cell_type": "code",
   "execution_count": 3,
   "id": "9c28a73d-b7ad-439b-b511-892b20e1d2d1",
   "metadata": {},
   "outputs": [],
   "source": [
    "X = np.array(X)\n",
    "x = X[50:] \n",
    "\n",
    "Y = np.array(Y)\n",
    "y = Y[50:]\n",
    "\n",
    "Z = np.array(Z)\n",
    "z = Z[50:] "
   ]
  },
  {
   "cell_type": "code",
   "execution_count": 5,
   "id": "2fd08d6b-46f3-428f-9c70-21332b92c617",
   "metadata": {},
   "outputs": [
    {
     "data": {
      "text/plain": [
       "[<matplotlib.lines.Line2D at 0x7f25b5e1d730>]"
      ]
     },
     "execution_count": 5,
     "metadata": {},
     "output_type": "execute_result"
    },
    {
     "data": {
      "image/png": "[encoded data removed]",
      "text/plain": [
       "<Figure size 432x288 with 1 Axes>"
      ]
     },
     "metadata": {
      "needs_background": "light"
     },
     "output_type": "display_data"
    }
   ],
   "source": [
    "plt.plot(x)\n",
    "plt.plot(y)\n",
    "plt.plot(z)"
   ]
  },
  {
   "cell_type": "code",
   "execution_count": null,
   "id": "248e544a-048d-4fc2-946e-77dff28bf9de",
   "metadata": {},
   "outputs": [],
   "source": []
  },
  {
   "cell_type": "code",
   "execution_count": null,
   "id": "8853697f-533b-4ed2-9645-86ac6c6740a1",
   "metadata": {},
   "outputs": [],
   "source": []
  },
  {
   "cell_type": "code",
   "execution_count": null,
   "id": "568a958b-7159-4761-8a2d-1d8314696f63",
   "metadata": {},
   "outputs": [],
   "source": []
  },
  {
   "cell_type": "code",
   "execution_count": null,
   "id": "3ee894dc-6d88-4289-a7a9-87c13412edf9",
   "metadata": {},
   "outputs": [],
   "source": []
  },
  {
   "cell_type": "code",
   "execution_count": null,
   "id": "e0363112-c65c-4bd3-9b21-fa36f254dc1f",
   "metadata": {},
   "outputs": [],
   "source": []
  },
  {
   "cell_type": "code",
   "execution_count": null,
   "id": "7fd96b0d-74bc-4041-92ad-dd46e57ded8a",
   "metadata": {},
   "outputs": [],
   "source": []
  },
  {
   "cell_type": "code",
   "execution_count": null,
   "id": "ba027784-ae38-49ef-b5ce-2e36c3fe3ab4",
   "metadata": {},
   "outputs": [],
   "source": []
  },
  {
   "cell_type": "code",
   "execution_count": null,
   "id": "e6aa3788-5855-4b31-8041-a6ddc5c34587",
   "metadata": {},
   "outputs": [],
   "source": []
  },
  {
   "cell_type": "code",
   "execution_count": null,
   "id": "9f2ad9b1-cef2-401a-9990-1276e4ddba5a",
   "metadata": {},
   "outputs": [],
   "source": []
  },
  {
   "cell_type": "code",
   "execution_count": null,
   "id": "a93ddb58-4e7d-41f5-88f5-565c224b0224",
   "metadata": {},
   "outputs": [],
   "source": []
  },
  {
   "cell_type": "code",
   "execution_count": 10,
   "id": "786e0241-6f64-4b5f-b9b9-f1c1791dd6f5",
   "metadata": {},
   "outputs": [
    {
     "ename": "NameError",
     "evalue": "name 'bag_file_path' is not defined",
     "output_type": "error",
     "traceback": [
      "\u001b[0;31m---------------------------------------------------------------------------\u001b[0m",
      "\u001b[0;31mNameError\u001b[0m                                 Traceback (most recent call last)",
      "Input \u001b[0;32mIn [10]\u001b[0m, in \u001b[0;36m<cell line: 5>\u001b[0;34m()\u001b[0m\n\u001b[1;32m      3\u001b[0m pipeline \u001b[38;5;241m=\u001b[39m rs\u001b[38;5;241m.\u001b[39mpipeline()\n\u001b[1;32m      4\u001b[0m config \u001b[38;5;241m=\u001b[39m rs\u001b[38;5;241m.\u001b[39mconfig()\n\u001b[0;32m----> 5\u001b[0m rs\u001b[38;5;241m.\u001b[39mconfig\u001b[38;5;241m.\u001b[39menable_device_from_file(config, \u001b[43mbag_file_path\u001b[49m)\n\u001b[1;32m      6\u001b[0m config\u001b[38;5;241m.\u001b[39menable_stream(rs\u001b[38;5;241m.\u001b[39mstream\u001b[38;5;241m.\u001b[39mdepth)\n\u001b[1;32m      7\u001b[0m config\u001b[38;5;241m.\u001b[39menable_stream(rs\u001b[38;5;241m.\u001b[39mstream\u001b[38;5;241m.\u001b[39mcolor)\n",
      "\u001b[0;31mNameError\u001b[0m: name 'bag_file_path' is not defined"
     ]
    }
   ],
   "source": [
    "import pyrealsense2 as rs\n",
    "\n",
    "pipeline = rs.pipeline()\n",
    "config = rs.config()\n",
    "rs.config.enable_device_from_file(config, bag_file_path)\n",
    "config.enable_stream(rs.stream.depth)\n",
    "config.enable_stream(rs.stream.color)\n",
    "\n",
    "profile = pipeline.start(config)\n",
    "depth_sensor = profile.get_device().first_depth_sensor()\n",
    "depth_scale = depth_sensor.get_depth_scale()\n",
    "\n",
    "align_to = rs.stream.color\n",
    "align = rs.align(align_to)\n",
    "try:\n",
    "\twhile True:\n",
    "\t\tframes = pipeline.wait_for_frames()\n",
    "\t\taligned_frames = align.process(frames)\n",
    "\t\taligned_depth_frame = aligned_frames.get_depth_frame()\n",
    "\t\tcolor_frame = aligned_frames.get_color_frame()\n",
    "\n",
    "\t\tdepth_image = np.asanyarray(aligned_depth_frame.get_data())\n",
    "\t\tcolor_image = np.asanyarray(color_frame.get_data())\n",
    "\t\tnum_rows = depth_image.shape[0]\n",
    "\t\tnum_cols = depth_image.shape[1]\n",
    "\n",
    "\t\tdepth_intrin = aligned_depth_frame.profile.as_video_stream_profile().intrinsics\n",
    "\t\tprint(depth_intrin)\n",
    "\n",
    "\t\tfor r in range(0, num_rows, 5):\n",
    "\t\t\tfor c in range(0, num_cols, 5):\n",
    "\t\t\t\tdepth = aligned_depth_frame.get_distance(c, r)\n",
    "\t\t\t\tdepth_point_in_meters_camera_coords = rs.rs2_deproject_pixel_to_point(depth_intrin, [c, r], depth)\n",
    "\t\t\t\t#some other stuff I do here with this depth point, such as projecting it to world coordinates etc.\n",
    "\n",
    "finally:\n",
    "\tpipeline.stop()"
   ]
  },
  {
   "cell_type": "code",
   "execution_count": 12,
   "id": "c5c09c04-57d8-4e74-8ee1-de9880e1c12a",
   "metadata": {},
   "outputs": [],
   "source": [
    "pipeline, config, align = SetUp.camera(640, 480, 60)\n",
    "\n",
    "try:\n",
    "    pipeline.start(config)\n",
    "except:\n",
    "    pipeline.stop()\n",
    "    pipeline.start(config)\n",
    "\n",
    "\n",
    "while True:\n",
    "\n",
    "    frames = pipeline.wait_for_frames()\n",
    "    frames = align.process(frames)\n",
    "    depth_frame = frames.get_depth_frame()\n",
    "    color_frame = frames.get_color_frame()\n",
    "\n",
    "    depth_image = np.asanyarray(depth_frame.get_data())\n",
    "    color_image = np.asanyarray(color_frame.get_data())\n",
    "    \n",
    "    depth_intrin = depth_frame.profile.as_video_stream_profile().intrinsics\n",
    "\n",
    "\n",
    "    cv2.imshow('RealSense', color_image)\n",
    "\n",
    "    if cv2.waitKey(1) & 0xFF == ord('q'):\n",
    "        cv2.destroyAllWindows()\n",
    "        pipeline.stop()\n",
    "        break"
   ]
  },
  {
   "cell_type": "code",
   "execution_count": 13,
   "id": "893a9b66-5501-446a-9235-e1f993d23fa4",
   "metadata": {},
   "outputs": [
    {
     "data": {
      "text/plain": [
       "[ 640x480  p[323.726 244.583]  f[607.593 606.723]  Inverse Brown Conrady [0 0 0 0 0] ]"
      ]
     },
     "execution_count": 13,
     "metadata": {},
     "output_type": "execute_result"
    }
   ],
   "source": [
    "depth_intrin"
   ]
  },
  {
   "cell_type": "code",
   "execution_count": 14,
   "id": "9c48b589-7a2f-4812-9a4c-1234ba8d58bf",
   "metadata": {},
   "outputs": [
    {
     "data": {
      "text/plain": [
       "<pyrealsense2.frame Z16 #143 @1650278911714.000732>"
      ]
     },
     "execution_count": 14,
     "metadata": {},
     "output_type": "execute_result"
    }
   ],
   "source": [
    "depth_frame"
   ]
  }
 ],
 "metadata": {
  "kernelspec": {
   "display_name": "Python 3 (ipykernel)",
   "language": "python",
   "name": "python3"
  },
  "language_info": {
   "codemirror_mode": {
    "name": "ipython",
    "version": 3
   },
   "file_extension": ".py",
   "mimetype": "text/x-python",
   "name": "python",
   "nbconvert_exporter": "python",
   "pygments_lexer": "ipython3",
   "version": "3.9.7"
  }
 },
 "nbformat": 4,
 "nbformat_minor": 5
}
