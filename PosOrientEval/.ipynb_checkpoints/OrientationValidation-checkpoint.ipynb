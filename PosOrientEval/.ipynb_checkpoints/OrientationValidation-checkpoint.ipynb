{
 "cells": [
  {
   "cell_type": "markdown",
   "id": "b836cf26-2fc3-45c7-b0fb-3000ab1e9d06",
   "metadata": {
    "tags": []
   },
   "source": [
    "## Robot Init"
   ]
  },
  {
   "cell_type": "code",
   "execution_count": 6,
   "id": "f6a7255d-ad85-4904-8275-a4d46008002a",
   "metadata": {
    "tags": []
   },
   "outputs": [
    {
     "name": "stderr",
     "output_type": "stream",
     "text": [
      "tried 11 times to find a packet in data, advertised packet size: -2, type: 3\n",
      "Data length: 44\n",
      "tried 11 times to find a packet in data, advertised packet size: -2, type: 3\n",
      "Data length: 68\n",
      "tried 11 times to find a packet in data, advertised packet size: -2, type: 3\n",
      "Data length: 1092\n",
      "tried 11 times to find a packet in data, advertised packet size: -2, type: 3\n",
      "Data length: 1418\n"
     ]
    },
    {
     "ename": "RobotException",
     "evalue": "Robot stopped",
     "output_type": "error",
     "traceback": [
      "\u001b[0;31m---------------------------------------------------------------------------\u001b[0m",
      "\u001b[0;31mRobotException\u001b[0m                            Traceback (most recent call last)",
      "Input \u001b[0;32mIn [6]\u001b[0m, in \u001b[0;36m<cell line: 3>\u001b[0;34m()\u001b[0m\n\u001b[1;32m      1\u001b[0m \u001b[38;5;28;01mfrom\u001b[39;00m \u001b[38;5;21;01mRobotInit\u001b[39;00m \u001b[38;5;28;01mimport\u001b[39;00m RobotInitPos\n\u001b[0;32m----> 3\u001b[0m \u001b[43mRobotInitPos\u001b[49m\u001b[43m(\u001b[49m\u001b[38;5;124;43m\"\u001b[39;49m\u001b[38;5;124;43m192.168.88.13\u001b[39;49m\u001b[38;5;124;43m\"\u001b[39;49m\u001b[43m)\u001b[49m\n",
      "File \u001b[0;32m~/Desktop/HyperDog/MSc_Thesis/PosOrientEval/RobotInit.py:10\u001b[0m, in \u001b[0;36mRobotInitPos.__init__\u001b[0;34m(self, ip)\u001b[0m\n\u001b[1;32m      8\u001b[0m rob \u001b[38;5;241m=\u001b[39m urx\u001b[38;5;241m.\u001b[39mRobot(\u001b[38;5;28mself\u001b[39m\u001b[38;5;241m.\u001b[39mip)\n\u001b[1;32m      9\u001b[0m InitPosJointsAng \u001b[38;5;241m=\u001b[39m np\u001b[38;5;241m.\u001b[39marray([\u001b[38;5;241m90\u001b[39m, \u001b[38;5;241m-\u001b[39m\u001b[38;5;241m90\u001b[39m, \u001b[38;5;241m90\u001b[39m, \u001b[38;5;241m-\u001b[39m\u001b[38;5;241m90\u001b[39m, \u001b[38;5;241m90\u001b[39m, \u001b[38;5;241m0\u001b[39m])\u001b[38;5;241m/\u001b[39m\u001b[38;5;241m180\u001b[39m\u001b[38;5;241m*\u001b[39mnp\u001b[38;5;241m.\u001b[39mpi\n\u001b[0;32m---> 10\u001b[0m \u001b[43mrob\u001b[49m\u001b[38;5;241;43m.\u001b[39;49m\u001b[43mmovej\u001b[49m\u001b[43m(\u001b[49m\u001b[43mInitPosJointsAng\u001b[49m\u001b[43m,\u001b[49m\u001b[43m \u001b[49m\u001b[38;5;241;43m0.7\u001b[39;49m\u001b[43m,\u001b[49m\u001b[43m \u001b[49m\u001b[38;5;241;43m0.7\u001b[39;49m\u001b[43m)\u001b[49m\n",
      "File \u001b[0;32m~/anaconda3/lib/python3.9/site-packages/urx/urrobot.py:277\u001b[0m, in \u001b[0;36mURRobot.movej\u001b[0;34m(self, joints, acc, vel, wait, relative, threshold)\u001b[0m\n\u001b[1;32m    275\u001b[0m \u001b[38;5;28mself\u001b[39m\u001b[38;5;241m.\u001b[39msend_program(prog)\n\u001b[1;32m    276\u001b[0m \u001b[38;5;28;01mif\u001b[39;00m wait:\n\u001b[0;32m--> 277\u001b[0m     \u001b[38;5;28;43mself\u001b[39;49m\u001b[38;5;241;43m.\u001b[39;49m\u001b[43m_wait_for_move\u001b[49m\u001b[43m(\u001b[49m\u001b[43mjoints\u001b[49m\u001b[43m[\u001b[49m\u001b[43m:\u001b[49m\u001b[38;5;241;43m6\u001b[39;49m\u001b[43m]\u001b[49m\u001b[43m,\u001b[49m\u001b[43m \u001b[49m\u001b[43mthreshold\u001b[49m\u001b[38;5;241;43m=\u001b[39;49m\u001b[43mthreshold\u001b[49m\u001b[43m,\u001b[49m\u001b[43m \u001b[49m\u001b[43mjoints\u001b[49m\u001b[38;5;241;43m=\u001b[39;49m\u001b[38;5;28;43;01mTrue\u001b[39;49;00m\u001b[43m)\u001b[49m\n\u001b[1;32m    278\u001b[0m     \u001b[38;5;28;01mreturn\u001b[39;00m \u001b[38;5;28mself\u001b[39m\u001b[38;5;241m.\u001b[39mgetj()\n",
      "File \u001b[0;32m~/anaconda3/lib/python3.9/site-packages/urx/urrobot.py:217\u001b[0m, in \u001b[0;36mURRobot._wait_for_move\u001b[0;34m(self, target, threshold, timeout, joints)\u001b[0m\n\u001b[1;32m    215\u001b[0m \u001b[38;5;28;01mwhile\u001b[39;00m \u001b[38;5;28;01mTrue\u001b[39;00m:\n\u001b[1;32m    216\u001b[0m     \u001b[38;5;28;01mif\u001b[39;00m \u001b[38;5;129;01mnot\u001b[39;00m \u001b[38;5;28mself\u001b[39m\u001b[38;5;241m.\u001b[39mis_running():\n\u001b[0;32m--> 217\u001b[0m         \u001b[38;5;28;01mraise\u001b[39;00m RobotException(\u001b[38;5;124m\"\u001b[39m\u001b[38;5;124mRobot stopped\u001b[39m\u001b[38;5;124m\"\u001b[39m)\n\u001b[1;32m    218\u001b[0m     dist \u001b[38;5;241m=\u001b[39m \u001b[38;5;28mself\u001b[39m\u001b[38;5;241m.\u001b[39m_get_dist(target, joints)\n\u001b[1;32m    219\u001b[0m     \u001b[38;5;28mself\u001b[39m\u001b[38;5;241m.\u001b[39mlogger\u001b[38;5;241m.\u001b[39mdebug(\u001b[38;5;124m\"\u001b[39m\u001b[38;5;124mdistance to target is: \u001b[39m\u001b[38;5;132;01m%s\u001b[39;00m\u001b[38;5;124m, target dist is \u001b[39m\u001b[38;5;132;01m%s\u001b[39;00m\u001b[38;5;124m\"\u001b[39m, dist, threshold)\n",
      "\u001b[0;31mRobotException\u001b[0m: Robot stopped"
     ]
    }
   ],
   "source": [
    "from RobotInit import RobotInitPos\n",
    "\n",
    "RobotInitPos(\"192.168.88.13\")"
   ]
  },
  {
   "cell_type": "markdown",
   "id": "572da66c-5699-4bad-882f-edb50a6c3a07",
   "metadata": {},
   "source": [
    "## Orient Val 3D"
   ]
  },
  {
   "cell_type": "code",
   "execution_count": 1,
   "id": "96516ec9-b982-4562-88de-339aa1ff4f54",
   "metadata": {},
   "outputs": [
    {
     "name": "stderr",
     "output_type": "stream",
     "text": [
      "tried 11 times to find a packet in data, advertised packet size: -2, type: 3\n",
      "Data length: 68\n",
      "tried 11 times to find a packet in data, advertised packet size: -2, type: 3\n",
      "Data length: 1092\n",
      "tried 11 times to find a packet in data, advertised packet size: -2, type: 3\n",
      "Data length: 1418\n"
     ]
    }
   ],
   "source": [
    "import urx\n",
    "import numpy as np\n",
    "import time\n",
    "from math import isclose\n",
    "import matplotlib.pyplot as plt\n",
    "\n",
    "from scipy.spatial.transform import Rotation as R\n",
    "import math3d\n",
    "\n",
    "import cv2\n",
    "\n",
    "import sys\n",
    "sys.path.append('..')\n",
    "\n",
    "from utils.orientation.OrientEstimation import OrientEstimation\n",
    "from utils.setup.setup import SetUp\n",
    "from utils.support import*\n",
    "\n",
    "rob = urx.Robot(\"192.168.88.13\")"
   ]
  },
  {
   "cell_type": "code",
   "execution_count": 2,
   "id": "9c08c62d-ae95-41de-861c-94f2f7993e42",
   "metadata": {},
   "outputs": [],
   "source": [
    "th = 0.2\n",
    "\n",
    "gt = []\n",
    "\n",
    "Roll, Pitch, Yaw = [],[],[]"
   ]
  },
  {
   "cell_type": "code",
   "execution_count": 3,
   "id": "7eb98ed5-025e-4570-9972-26a17dff8cd7",
   "metadata": {},
   "outputs": [],
   "source": [
    "class picture():\n",
    "    \n",
    "    def __init__(self):\n",
    "        self.hands, self.mpDraw, self.mpHands = SetUp.mediapipe()\n",
    "        self.pipeline, self.config, self.align = SetUp.camera(640, 480, 60)\n",
    "        self.OrientEstimation = OrientEstimation(640, 480)\n",
    "        \n",
    "        self.pipeline.start(self.config)\n",
    "        try:\n",
    "            self.pipeline.start(self.config)\n",
    "        except:\n",
    "            self.pipeline.stop()\n",
    "            self.pipeline.start(self.config)\n",
    "        \n",
    "\n",
    "    def start(self):\n",
    "        frames = self.pipeline.wait_for_frames()\n",
    "        frames = self.align.process(frames)\n",
    "        depth_frame = frames.get_depth_frame()\n",
    "        color_frame = frames.get_color_frame()\n",
    "\n",
    "        depth_image = np.asanyarray(depth_frame.get_data())\n",
    "        color_image = np.asanyarray(color_frame.get_data())\n",
    "    \n",
    "\n",
    "        dr_info = DrawInfo(color_image)\n",
    "\n",
    "        coordinates = self.hands.process(color_image).multi_hand_landmarks\n",
    "        if coordinates:\n",
    "            list_for_coordinates = []\n",
    "            for handLms in coordinates:\n",
    "                rect = Bounding_Rect(color_image, handLms)\n",
    "                brect, image = rect.draw()\n",
    "\n",
    "            self.mpDraw.draw_landmarks(color_image, handLms, self.mpHands.HAND_CONNECTIONS)\n",
    "\n",
    "            R,P,Y = self.OrientEstimation.OrientStart(color_image, depth_image, handLms)\n",
    "            cv2.imshow('RealSense', color_image)\n",
    "            cv2.waitKey(1)\n",
    "\n",
    "            return R,P,Y\n",
    "\n",
    "        cv2.imshow('RealSense', color_image)\n",
    "        cv2.waitKey(1)\n",
    "        \n",
    "        return 0,0,0"
   ]
  },
  {
   "cell_type": "code",
   "execution_count": 4,
   "id": "1da44e8e-2c79-49b0-92e4-e39b533ecadc",
   "metadata": {},
   "outputs": [
    {
     "name": "stderr",
     "output_type": "stream",
     "text": [
      "INFO: Created TensorFlow Lite XNNPACK delegate for CPU.\n"
     ]
    }
   ],
   "source": [
    "p = picture()"
   ]
  },
  {
   "cell_type": "code",
   "execution_count": 5,
   "id": "1b244488-6491-4551-a10b-63fa5fe10d77",
   "metadata": {},
   "outputs": [],
   "source": [
    "# for i in range(200):\n",
    "#     hand_r,hand_p,hand_y = p.start()\n",
    "    \n",
    "\n",
    "try:\n",
    "    eur = R.from_euler(\"x\", [0.2])\n",
    "    mat = eur.as_matrix()[0]\n",
    "    rob.set_orientation(mat)\n",
    "except:  \n",
    "    r_gt = 100 \n",
    "    while not isclose(0.2, r_gt, rel_tol=1e-3):\n",
    "        mat = R.from_matrix(rob.get_orientation().array)\n",
    "        pos = mat.as_euler(\"xyz\")\n",
    "        r_gt = pos[0]\n",
    "        gt.append(pos)\n",
    "        hand_r,hand_p,hand_y = p.start()\n",
    "        Roll.append(hand_r)\n",
    "        Pitch.append(hand_p)\n",
    "        Yaw.append(hand_y)\n",
    "        \n",
    "               \n",
    "        \n",
    "try:\n",
    "    eur = R.from_euler(\"y\", [0.2])\n",
    "    mat = eur.as_matrix()[0]\n",
    "    rob.set_orientation(mat)\n",
    "except:  \n",
    "    r_gt = 100 \n",
    "    while not isclose(0.2, r_gt, rel_tol=1e-3):\n",
    "        mat = R.from_matrix(rob.get_orientation().array)\n",
    "        pos = mat.as_euler(\"xyz\")\n",
    "        r_gt = pos[1]\n",
    "        gt.append(pos)\n",
    "        hand_r,hand_p,hand_y = p.start()\n",
    "        Roll.append(hand_r)\n",
    "        Pitch.append(hand_p)\n",
    "        Yaw.append(hand_y)\n",
    "        \n",
    "        \n",
    "        \n",
    "# try:\n",
    "#     eur = R.from_euler(\"z\", [0.2])\n",
    "#     mat = eur.as_matrix()[0]\n",
    "#     rob.set_orientation(mat)\n",
    "# except:  \n",
    "#     r_gt = 100 \n",
    "#     while not isclose(0.2, r_gt, rel_tol=1e-3):\n",
    "#         mat = R.from_matrix(rob.get_orientation().array)\n",
    "#         pos = mat.as_euler(\"xyz\")\n",
    "#         r_gt = pos[2]\n",
    "#         gt.append(pos)\n",
    "#         hand_r,hand_p,hand_y = p.start()\n",
    "#         Roll.append(hand_r)\n",
    "#         Pitch.append(hand_p)\n",
    "#         Yaw.append(hand_y)\n",
    "        \n",
    "        \n",
    "        \n",
    "        \n",
    "# try:\n",
    "#     eur = R.from_euler(\"y\", [0])\n",
    "#     mat = eur.as_matrix()[0]\n",
    "#     rob.set_orientation(mat)\n",
    "# except:  \n",
    "#     r_gt = 100 \n",
    "#     while not isclose(0, r_gt, rel_tol=1e-3):\n",
    "#         mat = R.from_matrix(rob.get_orientation().array)\n",
    "#         pos = mat.as_euler(\"xyz\")\n",
    "#         r_gt = pos[1]\n",
    "#         gt.append(pos)\n",
    "#         hand_r,hand_p,hand_y = p.start()\n",
    "#         Roll.append(hand_r)\n",
    "#         Pitch.append(hand_p)\n",
    "#         Yaw.append(hand_y)\n",
    "        \n",
    "        \n",
    "# try:\n",
    "#     eur = R.from_euler(\"x\", [0])\n",
    "#     mat = eur.as_matrix()[0]\n",
    "#     rob.set_orientation(mat)\n",
    "# except:  \n",
    "#     r_gt = 100 \n",
    "#     while not isclose(0, r_gt, rel_tol=1e-3):\n",
    "#         mat = R.from_matrix(rob.get_orientation().array)\n",
    "#         pos = mat.as_euler(\"xyz\")\n",
    "#         r_gt = pos[0]\n",
    "#         gt.append(pos)\n",
    "#         hand_r,hand_p,hand_y = p.start()\n",
    "#         Roll.append(hand_r)\n",
    "#         Pitch.append(hand_p)\n",
    "#         Yaw.append(hand_y)\n",
    "        \n",
    "        \n",
    "\n",
    "# try:\n",
    "#     eur = R.from_euler(\"z\", [0])\n",
    "#     mat = eur.as_matrix()[0]\n",
    "#     rob.set_orientation(mat)\n",
    "# except:  \n",
    "#     r_gt = 100 \n",
    "#     while not isclose(0, r_gt, rel_tol=1e-3):\n",
    "#         mat = R.from_matrix(rob.get_orientation().array)\n",
    "#         pos = mat.as_euler(\"xyz\")\n",
    "#         r_gt = pos[2]\n",
    "#         gt.append(pos)\n",
    "#         hand_r,hand_p,hand_y = p.start()\n",
    "#         Roll.append(hand_r)\n",
    "#         Pitch.append(hand_p)\n",
    "#         Yaw.append(hand_y)\n",
    "        \n",
    "        \n",
    "cv2.destroyAllWindows()"
   ]
  },
  {
   "cell_type": "code",
   "execution_count": null,
   "id": "8c5f45c5-6181-4eb7-b57d-3af1c2c60f71",
   "metadata": {},
   "outputs": [],
   "source": []
  },
  {
   "cell_type": "code",
   "execution_count": 21,
   "id": "16ff4979-05bf-4f78-8353-31a48af3aa00",
   "metadata": {},
   "outputs": [],
   "source": [
    "eur = R.from_euler(\"x\", [0.2, 0, 0])\n",
    "mat = eur.as_matrix()"
   ]
  },
  {
   "cell_type": "code",
   "execution_count": 22,
   "id": "56f4724c-c687-4572-b9a1-768247a94df4",
   "metadata": {},
   "outputs": [
    {
     "data": {
      "text/plain": [
       "array([[[ 1.        ,  0.        ,  0.        ],\n",
       "        [ 0.        ,  0.98006658, -0.19866933],\n",
       "        [ 0.        ,  0.19866933,  0.98006658]],\n",
       "\n",
       "       [[ 1.        ,  0.        ,  0.        ],\n",
       "        [ 0.        ,  1.        ,  0.        ],\n",
       "        [ 0.        ,  0.        ,  1.        ]],\n",
       "\n",
       "       [[ 1.        ,  0.        ,  0.        ],\n",
       "        [ 0.        ,  1.        ,  0.        ],\n",
       "        [ 0.        ,  0.        ,  1.        ]]])"
      ]
     },
     "execution_count": 22,
     "metadata": {},
     "output_type": "execute_result"
    }
   ],
   "source": [
    "mat"
   ]
  },
  {
   "cell_type": "code",
   "execution_count": 19,
   "id": "0300c558-a615-459b-a410-7c338c9b46bd",
   "metadata": {},
   "outputs": [],
   "source": [
    "eur = R.from_euler(\"x\", [0.2, 0.2, 0.2])\n",
    "mat = eur.as_matrix()"
   ]
  },
  {
   "cell_type": "code",
   "execution_count": 20,
   "id": "973b6f73-c804-43ab-a12d-ade459c71727",
   "metadata": {},
   "outputs": [
    {
     "data": {
      "text/plain": [
       "array([[[ 1.        ,  0.        ,  0.        ],\n",
       "        [ 0.        ,  0.98006658, -0.19866933],\n",
       "        [ 0.        ,  0.19866933,  0.98006658]],\n",
       "\n",
       "       [[ 1.        ,  0.        ,  0.        ],\n",
       "        [ 0.        ,  0.98006658, -0.19866933],\n",
       "        [ 0.        ,  0.19866933,  0.98006658]],\n",
       "\n",
       "       [[ 1.        ,  0.        ,  0.        ],\n",
       "        [ 0.        ,  0.98006658, -0.19866933],\n",
       "        [ 0.        ,  0.19866933,  0.98006658]]])"
      ]
     },
     "execution_count": 20,
     "metadata": {},
     "output_type": "execute_result"
    }
   ],
   "source": [
    "mat"
   ]
  },
  {
   "cell_type": "code",
   "execution_count": 23,
   "id": "02ea1763-b854-43f2-b6e2-496893a9facf",
   "metadata": {},
   "outputs": [],
   "source": [
    "eur = R.from_euler(\"x\", [0.2])\n",
    "mat = eur.as_matrix()"
   ]
  },
  {
   "cell_type": "code",
   "execution_count": 24,
   "id": "6507f2e3-5708-4bc0-bef2-71911b5a4f55",
   "metadata": {},
   "outputs": [
    {
     "data": {
      "text/plain": [
       "array([[[ 1.        ,  0.        ,  0.        ],\n",
       "        [ 0.        ,  0.98006658, -0.19866933],\n",
       "        [ 0.        ,  0.19866933,  0.98006658]]])"
      ]
     },
     "execution_count": 24,
     "metadata": {},
     "output_type": "execute_result"
    }
   ],
   "source": [
    "mat"
   ]
  },
  {
   "cell_type": "code",
   "execution_count": null,
   "id": "97f27bf7-2dcf-4205-83f7-363f8a307e1a",
   "metadata": {},
   "outputs": [],
   "source": []
  },
  {
   "cell_type": "code",
   "execution_count": null,
   "id": "ee1123d8-433c-4505-9717-1a3d649355a0",
   "metadata": {},
   "outputs": [],
   "source": []
  },
  {
   "cell_type": "code",
   "execution_count": null,
   "id": "95bbeb3c-ebfa-43b5-aea7-07fb0a48f496",
   "metadata": {},
   "outputs": [],
   "source": []
  },
  {
   "cell_type": "code",
   "execution_count": 7,
   "id": "37757a1f-2920-488f-9140-1b05109a0161",
   "metadata": {},
   "outputs": [],
   "source": [
    "gt = np.array(gt)"
   ]
  },
  {
   "cell_type": "code",
   "execution_count": 8,
   "id": "08bead8d-21b8-4993-afe8-007c9ffa75d7",
   "metadata": {},
   "outputs": [
    {
     "data": {
      "image/png": "[encoded data removed]",
      "text/plain": [
       "<Figure size 720x720 with 1 Axes>"
      ]
     },
     "metadata": {
      "needs_background": "light"
     },
     "output_type": "display_data"
    },
    {
     "name": "stderr",
     "output_type": "stream",
     "text": [
      "Exception in thread Thread-6:\n",
      "Traceback (most recent call last):\n",
      "  File \"/home/lena/anaconda3/lib/python3.9/threading.py\", line 973, in _bootstrap_inner\n",
      "    self.run()\n",
      "  File \"/home/lena/anaconda3/lib/python3.9/site-packages/urx/ursecmon.py\", line 286, in run\n",
      "    data = self._get_data()\n",
      "  File \"/home/lena/anaconda3/lib/python3.9/site-packages/urx/ursecmon.py\", line 333, in _get_data\n",
      "    tmp = self._s_secondary.recv(1024)\n",
      "socket.timeout: timed out\n"
     ]
    }
   ],
   "source": [
    "ax = plt.axes(projection='3d')\n",
    "\n",
    "ax.plot3D(gt[:,0],gt[:,1],gt[:,2], 'gray')\n",
    "\n",
    "ax.figure.set_size_inches(10,10)"
   ]
  },
  {
   "cell_type": "code",
   "execution_count": 14,
   "id": "01a7e507-be46-445d-b2fb-c29404322fa7",
   "metadata": {},
   "outputs": [
    {
     "data": {
      "text/plain": [
       "array([-0.00041721, -0.00041721, -0.00030984, -0.00030984,  0.00036051,\n",
       "        0.00036051,  0.0013171 ,  0.0013171 ,  0.00275284,  0.0042588 ,\n",
       "        0.0042588 ,  0.0065543 ,  0.0065543 ,  0.00904146,  0.00904146,\n",
       "        0.01206655,  0.01206655,  0.01539049,  0.01539049,  0.01919148,\n",
       "        0.01919148,  0.02317377,  0.02317377,  0.02734606,  0.02734606,\n",
       "        0.03095522,  0.03095522,  0.0352592 ,  0.0352592 ,  0.03895279,\n",
       "        0.03895279,  0.04304071,  0.04304071,  0.04699751,  0.05119273,\n",
       "        0.05119273,  0.05496929,  0.05496929,  0.05924798,  0.05924798,\n",
       "        0.0633354 ,  0.0674234 ,  0.0674234 ,  0.07141405,  0.07141405,\n",
       "        0.07520253,  0.07931339,  0.07931339,  0.08298076,  0.08298076,\n",
       "        0.08748637,  0.08748637,  0.09144075,  0.09144075,  0.09528788,\n",
       "        0.09929105,  0.09929105,  0.10353204,  0.10353204,  0.10729371,\n",
       "        0.11158292,  0.11158292,  0.11535803,  0.11932338,  0.11932338,\n",
       "        0.12310988,  0.12310988,  0.12731369,  0.12731369,  0.1313759 ,\n",
       "        0.1313759 ,  0.13526784,  0.13968765,  0.13968765,  0.13968765,\n",
       "        0.14347367,  0.14755635,  0.14755635,  0.15159469,  0.15159469,\n",
       "        0.1554866 ,  0.15927217,  0.15927217,  0.16360665,  0.16360665,\n",
       "        0.1674032 ,  0.1674032 ,  0.17160559,  0.17545076,  0.17545076,\n",
       "        0.17974985,  0.1834501 ,  0.1834501 ,  0.18698391,  0.18698391,\n",
       "        0.18969285,  0.18969285,  0.19245037,  0.19245037,  0.19472013,\n",
       "        0.19472013,  0.19653355,  0.19806174,  0.19806174,  0.19925623,\n",
       "        0.19980459])"
      ]
     },
     "execution_count": 14,
     "metadata": {},
     "output_type": "execute_result"
    }
   ],
   "source": []
  },
  {
   "cell_type": "code",
   "execution_count": null,
   "id": "c78c9215-4c86-486e-89a1-04f53bb46909",
   "metadata": {},
   "outputs": [],
   "source": []
  },
  {
   "cell_type": "code",
   "execution_count": null,
   "id": "01ed1b97-5537-4489-a3df-5c90e34c7493",
   "metadata": {},
   "outputs": [],
   "source": []
  },
  {
   "cell_type": "code",
   "execution_count": null,
   "id": "ba35445b-cb78-4ffe-963c-70f53ee2e292",
   "metadata": {},
   "outputs": [],
   "source": []
  },
  {
   "cell_type": "code",
   "execution_count": null,
   "id": "90c13240-88fa-4d07-ba81-0ffcf02739cf",
   "metadata": {},
   "outputs": [],
   "source": []
  },
  {
   "cell_type": "code",
   "execution_count": null,
   "id": "e0b43d70-b7d2-4220-8258-820736e202e5",
   "metadata": {},
   "outputs": [],
   "source": []
  },
  {
   "cell_type": "code",
   "execution_count": null,
   "id": "d6dca839-c3e8-4fd1-8511-2be82826cc60",
   "metadata": {},
   "outputs": [],
   "source": []
  },
  {
   "cell_type": "code",
   "execution_count": null,
   "id": "311894f7-a030-4945-8813-8212a3f2103d",
   "metadata": {},
   "outputs": [],
   "source": []
  },
  {
   "cell_type": "code",
   "execution_count": null,
   "id": "0778c208-2156-4d3a-9723-d5726d8dc299",
   "metadata": {},
   "outputs": [],
   "source": []
  },
  {
   "cell_type": "code",
   "execution_count": null,
   "id": "19676d7c-b04f-4298-87d1-f5db00d75722",
   "metadata": {},
   "outputs": [],
   "source": []
  },
  {
   "cell_type": "code",
   "execution_count": null,
   "id": "74081656-9053-4808-9325-1657faff6845",
   "metadata": {},
   "outputs": [],
   "source": []
  },
  {
   "cell_type": "code",
   "execution_count": null,
   "id": "c1c94cde-69b2-4ad2-b1d0-dcea13d059b7",
   "metadata": {},
   "outputs": [],
   "source": []
  },
  {
   "cell_type": "code",
   "execution_count": null,
   "id": "02846965-a454-41a8-9be2-9cdfe1ad6f97",
   "metadata": {},
   "outputs": [],
   "source": []
  },
  {
   "cell_type": "code",
   "execution_count": null,
   "id": "9c59c0cd-b125-4318-8fcb-2bff1765defa",
   "metadata": {},
   "outputs": [],
   "source": []
  },
  {
   "cell_type": "code",
   "execution_count": null,
   "id": "f06cf3a3-189b-4f96-816e-0fdae8e96492",
   "metadata": {},
   "outputs": [],
   "source": []
  },
  {
   "cell_type": "code",
   "execution_count": null,
   "id": "2ebffb92-d843-4ab7-aee0-aae7d4184064",
   "metadata": {},
   "outputs": [],
   "source": []
  },
  {
   "cell_type": "code",
   "execution_count": null,
   "id": "f623bf37-e345-49c3-b55e-1866c7a45df5",
   "metadata": {},
   "outputs": [],
   "source": []
  },
  {
   "cell_type": "code",
   "execution_count": 7,
   "id": "ede5d5d3-97cc-4366-bb53-7cc1b45cf77a",
   "metadata": {},
   "outputs": [
    {
     "name": "stderr",
     "output_type": "stream",
     "text": [
      "tried 11 times to find a packet in data, advertised packet size: -2, type: 3\n",
      "Data length: 44\n",
      "tried 11 times to find a packet in data, advertised packet size: -2, type: 3\n",
      "Data length: 68\n",
      "tried 11 times to find a packet in data, advertised packet size: -2, type: 3\n",
      "Data length: 1092\n",
      "tried 11 times to find a packet in data, advertised packet size: -2, type: 3\n",
      "Data length: 1418\n"
     ]
    }
   ],
   "source": [
    "import urx\n",
    "import numpy as np\n",
    "from scipy.spatial.transform import Rotation as R\n",
    "import math3d\n",
    "\n",
    "rob = urx.Robot(\"192.168.88.13\")"
   ]
  },
  {
   "cell_type": "code",
   "execution_count": 16,
   "id": "0f7de8ae-cd0c-4b90-92d6-dfc4feb678c3",
   "metadata": {},
   "outputs": [],
   "source": [
    "eur = R.from_euler(\"y\", [0.2])\n",
    "mat = eur.as_matrix()[0]\n",
    "mat = mat.reshape(3,3)"
   ]
  },
  {
   "cell_type": "code",
   "execution_count": 17,
   "id": "37475f30-b4f1-4b93-b41b-844abadbcca7",
   "metadata": {},
   "outputs": [
    {
     "ename": "RobotException",
     "evalue": "Robot stopped",
     "output_type": "error",
     "traceback": [
      "\u001b[0;31m---------------------------------------------------------------------------\u001b[0m",
      "\u001b[0;31mRobotException\u001b[0m                            Traceback (most recent call last)",
      "Input \u001b[0;32mIn [17]\u001b[0m, in \u001b[0;36m<cell line: 1>\u001b[0;34m()\u001b[0m\n\u001b[0;32m----> 1\u001b[0m \u001b[43mrob\u001b[49m\u001b[38;5;241;43m.\u001b[39;49m\u001b[43mset_orientation\u001b[49m\u001b[43m(\u001b[49m\u001b[43mmat\u001b[49m\u001b[43m)\u001b[49m\n",
      "File \u001b[0;32m~/anaconda3/lib/python3.9/site-packages/urx/robot.py:59\u001b[0m, in \u001b[0;36mRobot.set_orientation\u001b[0;34m(self, orient, acc, vel, wait, threshold)\u001b[0m\n\u001b[1;32m     57\u001b[0m trans \u001b[38;5;241m=\u001b[39m \u001b[38;5;28mself\u001b[39m\u001b[38;5;241m.\u001b[39mget_pose()\n\u001b[1;32m     58\u001b[0m trans\u001b[38;5;241m.\u001b[39morient \u001b[38;5;241m=\u001b[39m orient\n\u001b[0;32m---> 59\u001b[0m \u001b[38;5;28;43mself\u001b[39;49m\u001b[38;5;241;43m.\u001b[39;49m\u001b[43mset_pose\u001b[49m\u001b[43m(\u001b[49m\u001b[43mtrans\u001b[49m\u001b[43m,\u001b[49m\u001b[43m \u001b[49m\u001b[43macc\u001b[49m\u001b[43m,\u001b[49m\u001b[43m \u001b[49m\u001b[43mvel\u001b[49m\u001b[43m,\u001b[49m\u001b[43m \u001b[49m\u001b[43mwait\u001b[49m\u001b[38;5;241;43m=\u001b[39;49m\u001b[43mwait\u001b[49m\u001b[43m,\u001b[49m\u001b[43m \u001b[49m\u001b[43mthreshold\u001b[49m\u001b[38;5;241;43m=\u001b[39;49m\u001b[43mthreshold\u001b[49m\u001b[43m)\u001b[49m\n",
      "File \u001b[0;32m~/anaconda3/lib/python3.9/site-packages/urx/robot.py:105\u001b[0m, in \u001b[0;36mRobot.set_pose\u001b[0;34m(self, trans, acc, vel, wait, command, threshold)\u001b[0m\n\u001b[1;32m    103\u001b[0m \u001b[38;5;28mself\u001b[39m\u001b[38;5;241m.\u001b[39mlogger\u001b[38;5;241m.\u001b[39mdebug(\u001b[38;5;124m\"\u001b[39m\u001b[38;5;124mSetting pose to \u001b[39m\u001b[38;5;132;01m%s\u001b[39;00m\u001b[38;5;124m\"\u001b[39m, trans\u001b[38;5;241m.\u001b[39mpose_vector)\n\u001b[1;32m    104\u001b[0m t \u001b[38;5;241m=\u001b[39m \u001b[38;5;28mself\u001b[39m\u001b[38;5;241m.\u001b[39mcsys \u001b[38;5;241m*\u001b[39m trans\n\u001b[0;32m--> 105\u001b[0m pose \u001b[38;5;241m=\u001b[39m \u001b[43mURRobot\u001b[49m\u001b[38;5;241;43m.\u001b[39;49m\u001b[43mmovex\u001b[49m\u001b[43m(\u001b[49m\u001b[38;5;28;43mself\u001b[39;49m\u001b[43m,\u001b[49m\u001b[43m \u001b[49m\u001b[43mcommand\u001b[49m\u001b[43m,\u001b[49m\u001b[43m \u001b[49m\u001b[43mt\u001b[49m\u001b[38;5;241;43m.\u001b[39;49m\u001b[43mpose_vector\u001b[49m\u001b[43m,\u001b[49m\u001b[43m \u001b[49m\u001b[43macc\u001b[49m\u001b[38;5;241;43m=\u001b[39;49m\u001b[43macc\u001b[49m\u001b[43m,\u001b[49m\u001b[43m \u001b[49m\u001b[43mvel\u001b[49m\u001b[38;5;241;43m=\u001b[39;49m\u001b[43mvel\u001b[49m\u001b[43m,\u001b[49m\u001b[43m \u001b[49m\u001b[43mwait\u001b[49m\u001b[38;5;241;43m=\u001b[39;49m\u001b[43mwait\u001b[49m\u001b[43m,\u001b[49m\u001b[43m \u001b[49m\u001b[43mthreshold\u001b[49m\u001b[38;5;241;43m=\u001b[39;49m\u001b[43mthreshold\u001b[49m\u001b[43m)\u001b[49m\n\u001b[1;32m    106\u001b[0m \u001b[38;5;28;01mif\u001b[39;00m pose \u001b[38;5;129;01mis\u001b[39;00m \u001b[38;5;129;01mnot\u001b[39;00m \u001b[38;5;28;01mNone\u001b[39;00m:\n\u001b[1;32m    107\u001b[0m     \u001b[38;5;28;01mreturn\u001b[39;00m \u001b[38;5;28mself\u001b[39m\u001b[38;5;241m.\u001b[39mcsys\u001b[38;5;241m.\u001b[39minverse \u001b[38;5;241m*\u001b[39m m3d\u001b[38;5;241m.\u001b[39mTransform(pose)\n",
      "File \u001b[0;32m~/anaconda3/lib/python3.9/site-packages/urx/urrobot.py:316\u001b[0m, in \u001b[0;36mURRobot.movex\u001b[0;34m(self, command, tpose, acc, vel, wait, relative, threshold)\u001b[0m\n\u001b[1;32m    314\u001b[0m \u001b[38;5;28mself\u001b[39m\u001b[38;5;241m.\u001b[39msend_program(prog)\n\u001b[1;32m    315\u001b[0m \u001b[38;5;28;01mif\u001b[39;00m wait:\n\u001b[0;32m--> 316\u001b[0m     \u001b[38;5;28;43mself\u001b[39;49m\u001b[38;5;241;43m.\u001b[39;49m\u001b[43m_wait_for_move\u001b[49m\u001b[43m(\u001b[49m\u001b[43mtpose\u001b[49m\u001b[43m[\u001b[49m\u001b[43m:\u001b[49m\u001b[38;5;241;43m6\u001b[39;49m\u001b[43m]\u001b[49m\u001b[43m,\u001b[49m\u001b[43m \u001b[49m\u001b[43mthreshold\u001b[49m\u001b[38;5;241;43m=\u001b[39;49m\u001b[43mthreshold\u001b[49m\u001b[43m)\u001b[49m\n\u001b[1;32m    317\u001b[0m     \u001b[38;5;28;01mreturn\u001b[39;00m \u001b[38;5;28mself\u001b[39m\u001b[38;5;241m.\u001b[39mgetl()\n",
      "File \u001b[0;32m~/anaconda3/lib/python3.9/site-packages/urx/urrobot.py:217\u001b[0m, in \u001b[0;36mURRobot._wait_for_move\u001b[0;34m(self, target, threshold, timeout, joints)\u001b[0m\n\u001b[1;32m    215\u001b[0m \u001b[38;5;28;01mwhile\u001b[39;00m \u001b[38;5;28;01mTrue\u001b[39;00m:\n\u001b[1;32m    216\u001b[0m     \u001b[38;5;28;01mif\u001b[39;00m \u001b[38;5;129;01mnot\u001b[39;00m \u001b[38;5;28mself\u001b[39m\u001b[38;5;241m.\u001b[39mis_running():\n\u001b[0;32m--> 217\u001b[0m         \u001b[38;5;28;01mraise\u001b[39;00m RobotException(\u001b[38;5;124m\"\u001b[39m\u001b[38;5;124mRobot stopped\u001b[39m\u001b[38;5;124m\"\u001b[39m)\n\u001b[1;32m    218\u001b[0m     dist \u001b[38;5;241m=\u001b[39m \u001b[38;5;28mself\u001b[39m\u001b[38;5;241m.\u001b[39m_get_dist(target, joints)\n\u001b[1;32m    219\u001b[0m     \u001b[38;5;28mself\u001b[39m\u001b[38;5;241m.\u001b[39mlogger\u001b[38;5;241m.\u001b[39mdebug(\u001b[38;5;124m\"\u001b[39m\u001b[38;5;124mdistance to target is: \u001b[39m\u001b[38;5;132;01m%s\u001b[39;00m\u001b[38;5;124m, target dist is \u001b[39m\u001b[38;5;132;01m%s\u001b[39;00m\u001b[38;5;124m\"\u001b[39m, dist, threshold)\n",
      "\u001b[0;31mRobotException\u001b[0m: Robot stopped"
     ]
    }
   ],
   "source": [
    "rob.set_orientation(mat)"
   ]
  },
  {
   "cell_type": "code",
   "execution_count": null,
   "id": "aadb4bee-4e13-4fcc-97ad-149f760aa016",
   "metadata": {},
   "outputs": [],
   "source": []
  },
  {
   "cell_type": "code",
   "execution_count": null,
   "id": "ee817de7-3b38-4e16-a40a-aa19c7ccc487",
   "metadata": {},
   "outputs": [],
   "source": []
  },
  {
   "cell_type": "code",
   "execution_count": null,
   "id": "34918271-c432-4f2b-a957-21400eaf9b92",
   "metadata": {},
   "outputs": [],
   "source": []
  },
  {
   "cell_type": "code",
   "execution_count": 4,
   "id": "623bd751-6454-43f2-a1ca-106b63e0a088",
   "metadata": {},
   "outputs": [],
   "source": [
    "## x x pitch\n",
    "q = Euler_to_quaternion(0, -0.3, 0)"
   ]
  },
  {
   "cell_type": "code",
   "execution_count": 5,
   "id": "f2ff28cb-28ee-4b6c-85eb-284f1950d2ca",
   "metadata": {},
   "outputs": [],
   "source": [
    "r = R.from_quat(q)"
   ]
  },
  {
   "cell_type": "code",
   "execution_count": 6,
   "id": "bb49b964-ce73-4999-b45c-a08cb940bfdc",
   "metadata": {},
   "outputs": [
    {
     "data": {
      "text/plain": [
       "array([[ 0.96,  0.  , -0.3 ],\n",
       "       [ 0.  ,  1.  , -0.  ],\n",
       "       [-0.3 ,  0.  ,  0.96]])"
      ]
     },
     "execution_count": 6,
     "metadata": {},
     "output_type": "execute_result"
    }
   ],
   "source": [
    "rot_mat = r.as_matrix()\n",
    "\n",
    "i = 0\n",
    "if i==0:\n",
    "    rot_mat[1,1] *= -1\n",
    "    rot_mat[2,2] *= -1\n",
    "    \n",
    "    i+=1\n",
    "    \n",
    "    \n",
    "np.round(rot_mat, 2)"
   ]
  },
  {
   "cell_type": "code",
   "execution_count": 10,
   "id": "8f8d732d-1ead-486f-90d2-a5ccebe50f79",
   "metadata": {},
   "outputs": [
    {
     "data": {
      "text/plain": [
       "array([[ 0.94, -0.  , -0.34],\n",
       "       [ 0.  ,  1.  ,  0.  ],\n",
       "       [ 0.34, -0.  ,  0.94]])"
      ]
     },
     "execution_count": 10,
     "metadata": {},
     "output_type": "execute_result"
    }
   ],
   "source": [
    "np.round(rob.get_orientation().array, 2)"
   ]
  },
  {
   "cell_type": "code",
   "execution_count": 8,
   "id": "c782975a-9b1b-40bf-b77d-fbc9de21f1db",
   "metadata": {},
   "outputs": [],
   "source": [
    "orient = math3d.Orientation(rot_mat)"
   ]
  },
  {
   "cell_type": "code",
   "execution_count": 9,
   "id": "e28ab85a-3652-4f04-ae0f-44fc6fe3da48",
   "metadata": {},
   "outputs": [
    {
     "ename": "RobotException",
     "evalue": "Robot stopped",
     "output_type": "error",
     "traceback": [
      "\u001b[0;31m---------------------------------------------------------------------------\u001b[0m",
      "\u001b[0;31mRobotException\u001b[0m                            Traceback (most recent call last)",
      "Input \u001b[0;32mIn [9]\u001b[0m, in \u001b[0;36m<cell line: 1>\u001b[0;34m()\u001b[0m\n\u001b[0;32m----> 1\u001b[0m \u001b[43mrob\u001b[49m\u001b[38;5;241;43m.\u001b[39;49m\u001b[43mset_orientation\u001b[49m\u001b[43m(\u001b[49m\u001b[43morient\u001b[49m\u001b[43m)\u001b[49m\n",
      "File \u001b[0;32m~/anaconda3/lib/python3.9/site-packages/urx/robot.py:59\u001b[0m, in \u001b[0;36mRobot.set_orientation\u001b[0;34m(self, orient, acc, vel, wait, threshold)\u001b[0m\n\u001b[1;32m     57\u001b[0m trans \u001b[38;5;241m=\u001b[39m \u001b[38;5;28mself\u001b[39m\u001b[38;5;241m.\u001b[39mget_pose()\n\u001b[1;32m     58\u001b[0m trans\u001b[38;5;241m.\u001b[39morient \u001b[38;5;241m=\u001b[39m orient\n\u001b[0;32m---> 59\u001b[0m \u001b[38;5;28;43mself\u001b[39;49m\u001b[38;5;241;43m.\u001b[39;49m\u001b[43mset_pose\u001b[49m\u001b[43m(\u001b[49m\u001b[43mtrans\u001b[49m\u001b[43m,\u001b[49m\u001b[43m \u001b[49m\u001b[43macc\u001b[49m\u001b[43m,\u001b[49m\u001b[43m \u001b[49m\u001b[43mvel\u001b[49m\u001b[43m,\u001b[49m\u001b[43m \u001b[49m\u001b[43mwait\u001b[49m\u001b[38;5;241;43m=\u001b[39;49m\u001b[43mwait\u001b[49m\u001b[43m,\u001b[49m\u001b[43m \u001b[49m\u001b[43mthreshold\u001b[49m\u001b[38;5;241;43m=\u001b[39;49m\u001b[43mthreshold\u001b[49m\u001b[43m)\u001b[49m\n",
      "File \u001b[0;32m~/anaconda3/lib/python3.9/site-packages/urx/robot.py:105\u001b[0m, in \u001b[0;36mRobot.set_pose\u001b[0;34m(self, trans, acc, vel, wait, command, threshold)\u001b[0m\n\u001b[1;32m    103\u001b[0m \u001b[38;5;28mself\u001b[39m\u001b[38;5;241m.\u001b[39mlogger\u001b[38;5;241m.\u001b[39mdebug(\u001b[38;5;124m\"\u001b[39m\u001b[38;5;124mSetting pose to \u001b[39m\u001b[38;5;132;01m%s\u001b[39;00m\u001b[38;5;124m\"\u001b[39m, trans\u001b[38;5;241m.\u001b[39mpose_vector)\n\u001b[1;32m    104\u001b[0m t \u001b[38;5;241m=\u001b[39m \u001b[38;5;28mself\u001b[39m\u001b[38;5;241m.\u001b[39mcsys \u001b[38;5;241m*\u001b[39m trans\n\u001b[0;32m--> 105\u001b[0m pose \u001b[38;5;241m=\u001b[39m \u001b[43mURRobot\u001b[49m\u001b[38;5;241;43m.\u001b[39;49m\u001b[43mmovex\u001b[49m\u001b[43m(\u001b[49m\u001b[38;5;28;43mself\u001b[39;49m\u001b[43m,\u001b[49m\u001b[43m \u001b[49m\u001b[43mcommand\u001b[49m\u001b[43m,\u001b[49m\u001b[43m \u001b[49m\u001b[43mt\u001b[49m\u001b[38;5;241;43m.\u001b[39;49m\u001b[43mpose_vector\u001b[49m\u001b[43m,\u001b[49m\u001b[43m \u001b[49m\u001b[43macc\u001b[49m\u001b[38;5;241;43m=\u001b[39;49m\u001b[43macc\u001b[49m\u001b[43m,\u001b[49m\u001b[43m \u001b[49m\u001b[43mvel\u001b[49m\u001b[38;5;241;43m=\u001b[39;49m\u001b[43mvel\u001b[49m\u001b[43m,\u001b[49m\u001b[43m \u001b[49m\u001b[43mwait\u001b[49m\u001b[38;5;241;43m=\u001b[39;49m\u001b[43mwait\u001b[49m\u001b[43m,\u001b[49m\u001b[43m \u001b[49m\u001b[43mthreshold\u001b[49m\u001b[38;5;241;43m=\u001b[39;49m\u001b[43mthreshold\u001b[49m\u001b[43m)\u001b[49m\n\u001b[1;32m    106\u001b[0m \u001b[38;5;28;01mif\u001b[39;00m pose \u001b[38;5;129;01mis\u001b[39;00m \u001b[38;5;129;01mnot\u001b[39;00m \u001b[38;5;28;01mNone\u001b[39;00m:\n\u001b[1;32m    107\u001b[0m     \u001b[38;5;28;01mreturn\u001b[39;00m \u001b[38;5;28mself\u001b[39m\u001b[38;5;241m.\u001b[39mcsys\u001b[38;5;241m.\u001b[39minverse \u001b[38;5;241m*\u001b[39m m3d\u001b[38;5;241m.\u001b[39mTransform(pose)\n",
      "File \u001b[0;32m~/anaconda3/lib/python3.9/site-packages/urx/urrobot.py:316\u001b[0m, in \u001b[0;36mURRobot.movex\u001b[0;34m(self, command, tpose, acc, vel, wait, relative, threshold)\u001b[0m\n\u001b[1;32m    314\u001b[0m \u001b[38;5;28mself\u001b[39m\u001b[38;5;241m.\u001b[39msend_program(prog)\n\u001b[1;32m    315\u001b[0m \u001b[38;5;28;01mif\u001b[39;00m wait:\n\u001b[0;32m--> 316\u001b[0m     \u001b[38;5;28;43mself\u001b[39;49m\u001b[38;5;241;43m.\u001b[39;49m\u001b[43m_wait_for_move\u001b[49m\u001b[43m(\u001b[49m\u001b[43mtpose\u001b[49m\u001b[43m[\u001b[49m\u001b[43m:\u001b[49m\u001b[38;5;241;43m6\u001b[39;49m\u001b[43m]\u001b[49m\u001b[43m,\u001b[49m\u001b[43m \u001b[49m\u001b[43mthreshold\u001b[49m\u001b[38;5;241;43m=\u001b[39;49m\u001b[43mthreshold\u001b[49m\u001b[43m)\u001b[49m\n\u001b[1;32m    317\u001b[0m     \u001b[38;5;28;01mreturn\u001b[39;00m \u001b[38;5;28mself\u001b[39m\u001b[38;5;241m.\u001b[39mgetl()\n",
      "File \u001b[0;32m~/anaconda3/lib/python3.9/site-packages/urx/urrobot.py:217\u001b[0m, in \u001b[0;36mURRobot._wait_for_move\u001b[0;34m(self, target, threshold, timeout, joints)\u001b[0m\n\u001b[1;32m    215\u001b[0m \u001b[38;5;28;01mwhile\u001b[39;00m \u001b[38;5;28;01mTrue\u001b[39;00m:\n\u001b[1;32m    216\u001b[0m     \u001b[38;5;28;01mif\u001b[39;00m \u001b[38;5;129;01mnot\u001b[39;00m \u001b[38;5;28mself\u001b[39m\u001b[38;5;241m.\u001b[39mis_running():\n\u001b[0;32m--> 217\u001b[0m         \u001b[38;5;28;01mraise\u001b[39;00m RobotException(\u001b[38;5;124m\"\u001b[39m\u001b[38;5;124mRobot stopped\u001b[39m\u001b[38;5;124m\"\u001b[39m)\n\u001b[1;32m    218\u001b[0m     dist \u001b[38;5;241m=\u001b[39m \u001b[38;5;28mself\u001b[39m\u001b[38;5;241m.\u001b[39m_get_dist(target, joints)\n\u001b[1;32m    219\u001b[0m     \u001b[38;5;28mself\u001b[39m\u001b[38;5;241m.\u001b[39mlogger\u001b[38;5;241m.\u001b[39mdebug(\u001b[38;5;124m\"\u001b[39m\u001b[38;5;124mdistance to target is: \u001b[39m\u001b[38;5;132;01m%s\u001b[39;00m\u001b[38;5;124m, target dist is \u001b[39m\u001b[38;5;132;01m%s\u001b[39;00m\u001b[38;5;124m\"\u001b[39m, dist, threshold)\n",
      "\u001b[0;31mRobotException\u001b[0m: Robot stopped"
     ]
    }
   ],
   "source": [
    "rob.set_orientation(orient)"
   ]
  },
  {
   "cell_type": "markdown",
   "id": "4cb3c3c3-c4c9-4c2d-a599-2ffb875834eb",
   "metadata": {
    "tags": []
   },
   "source": [
    "## Orient Eval"
   ]
  },
  {
   "cell_type": "code",
   "execution_count": 1,
   "id": "3240a52c-ff1a-4c6c-b5a9-047d4fc56045",
   "metadata": {},
   "outputs": [],
   "source": [
    "import numpy as np\n",
    "import matplotlib.pyplot as plt\n",
    "import urx\n",
    "import cv2\n",
    "\n",
    "import sys\n",
    "sys.path.append('..')\n",
    "\n",
    "from utils.orientation.OrientEstimation import OrientEstimation\n",
    "from utils.setup.setup import SetUp\n",
    "from utils.support import*"
   ]
  },
  {
   "cell_type": "code",
   "execution_count": 2,
   "id": "1d91f93b-36ef-4d24-b7d1-c7ffec20a58b",
   "metadata": {},
   "outputs": [
    {
     "name": "stderr",
     "output_type": "stream",
     "text": [
      "tried 11 times to find a packet in data, advertised packet size: -2, type: 3\n",
      "Data length: 1013\n",
      "tried 11 times to find a packet in data, advertised packet size: -2, type: 3\n",
      "Data length: 1418\n",
      "INFO: Created TensorFlow Lite XNNPACK delegate for CPU.\n"
     ]
    }
   ],
   "source": [
    "rob = urx.Robot(\"192.168.88.131\")\n",
    "hands, mpDraw, mpHands = SetUp.mediapipe()\n",
    "W = 640\n",
    "H = 480\n",
    "pipeline, config, align = SetUp.camera(640, 480, 60)\n",
    "# cvFpsCalc = CvFpsCalc(buffer_len=10)\n",
    "# poseEstimation = PoseEstimation(640, 480)\n",
    "orientEstimation = OrientEstimation(640, 480)\n",
    "\n",
    "try:\n",
    "    pipeline.start(config)\n",
    "except:\n",
    "    pipeline.stop()\n",
    "    pipeline.start(config)\n",
    "\n",
    "times = 0   \n",
    "Roll, Pitch, Yaw = [],[],[]\n",
    "GT = []\n",
    "while times < 350:\n",
    "    # fps = cvFpsCalc.get()\n",
    "\n",
    "    frames = pipeline.wait_for_frames()\n",
    "    frames = align.process(frames)\n",
    "    depth_frame = frames.get_depth_frame()\n",
    "    color_frame = frames.get_color_frame()\n",
    "\n",
    "    depth_image = np.asanyarray(depth_frame.get_data())\n",
    "    color_image = np.asanyarray(color_frame.get_data())\n",
    "\n",
    "    dr_info = DrawInfo(color_image)\n",
    "\n",
    "    coordinates = hands.process(color_image).multi_hand_landmarks\n",
    "    if coordinates:\n",
    "        list_for_coordinates = []\n",
    "        for handLms in coordinates:\n",
    "            rect = Bounding_Rect(color_image, handLms)\n",
    "            brect, image = rect.draw()\n",
    "\n",
    "        mpDraw.draw_landmarks(color_image, handLms, mpHands.HAND_CONNECTIONS)\n",
    "\n",
    "        # poseEstimation.PoseStart(handLms, depth_image)\n",
    "        R,P,Y = orientEstimation.OrientStart(color_image, depth_image, handLms)\n",
    "        orient = rob.get_orientation()\n",
    "        times += 1\n",
    "        \n",
    "        Roll.append(R)\n",
    "        Pitch.append(P)\n",
    "        Yaw.append(Y)\n",
    "        \n",
    "        GT.append(orient)\n",
    "\n",
    "\n",
    "    # dr_info.FPS(fps)\n",
    "    cv2.imshow('RealSense', color_image)\n",
    "\n",
    "    if cv2.waitKey(1) & 0xFF == ord('q'):\n",
    "        cv2.destroyAllWindows()\n",
    "        pipeline.stop()\n",
    "        break\n",
    "        \n",
    "cv2.destroyAllWindows()\n",
    "pipeline.stop()"
   ]
  },
  {
   "cell_type": "code",
   "execution_count": 3,
   "id": "0b338204-fd27-47ee-bb31-efaa8bd2cf08",
   "metadata": {},
   "outputs": [],
   "source": [
    "q0 = np.array([O.get_quaternion()[0] for O in GT])\n",
    "q1 = np.array([O.get_quaternion()[1] for O in GT])\n",
    "q2 = np.array([O.get_quaternion()[2] for O in GT])\n",
    "q3 = np.array([O.get_quaternion()[3] for O in GT])"
   ]
  },
  {
   "cell_type": "code",
   "execution_count": 4,
   "id": "2539b8b4-dc33-4468-83d0-644f5f02b91f",
   "metadata": {},
   "outputs": [],
   "source": [
    "gt_Pitch = np.arctan2(2*(q0*q1+q2*q3), 1-2*((q1**2)+(q2**2))) * 180/np.pi\n",
    "gt_Yaw = np.arcsin(2*(q0*q2-q3*q1)) * 180/np.pi\n",
    "gt_Roll = np.arctan2(2*(q0*q3+q1*q2), 1-2*((q2**2)+(q3**2))) * 180/np.pi"
   ]
  },
  {
   "cell_type": "code",
   "execution_count": 5,
   "id": "10a541fe-2ebd-4d44-9ab4-97b08ecb4e47",
   "metadata": {},
   "outputs": [
    {
     "data": {
      "text/plain": [
       "[<matplotlib.lines.Line2D at 0x7f7e10084220>]"
      ]
     },
     "execution_count": 5,
     "metadata": {},
     "output_type": "execute_result"
    },
    {
     "data": {
      "image/png": "[encoded data removed]",
      "text/plain": [
       "<Figure size 432x288 with 1 Axes>"
      ]
     },
     "metadata": {
      "needs_background": "light"
     },
     "output_type": "display_data"
    }
   ],
   "source": [
    "plt.plot(gt_Roll)\n",
    "plt.plot(gt_Pitch)\n",
    "plt.plot(gt_Yaw)"
   ]
  },
  {
   "cell_type": "code",
   "execution_count": 2,
   "id": "29e726af-ce1b-48a0-89e6-66b500cc23f7",
   "metadata": {},
   "outputs": [
    {
     "ename": "NameError",
     "evalue": "name 'plt' is not defined",
     "output_type": "error",
     "traceback": [
      "\u001b[0;31m---------------------------------------------------------------------------\u001b[0m",
      "\u001b[0;31mNameError\u001b[0m                                 Traceback (most recent call last)",
      "Input \u001b[0;32mIn [2]\u001b[0m, in \u001b[0;36m<cell line: 1>\u001b[0;34m()\u001b[0m\n\u001b[0;32m----> 1\u001b[0m \u001b[43mplt\u001b[49m\u001b[38;5;241m.\u001b[39mplot(Roll)\n\u001b[1;32m      2\u001b[0m plt\u001b[38;5;241m.\u001b[39mplot(Pitch)\n\u001b[1;32m      3\u001b[0m plt\u001b[38;5;241m.\u001b[39mplot(Yaw)\n",
      "\u001b[0;31mNameError\u001b[0m: name 'plt' is not defined"
     ]
    }
   ],
   "source": [
    "plt.plot(Roll)\n",
    "plt.plot(Pitch)\n",
    "plt.plot(Yaw)"
   ]
  },
  {
   "cell_type": "code",
   "execution_count": 7,
   "id": "95ef1df6-3c64-466a-98a5-ebf5fdd734eb",
   "metadata": {},
   "outputs": [],
   "source": [
    "# np.save(\"Pitch/handR\", R)\n",
    "# np.save(\"Pitch/handP\", P)\n",
    "# np.save(\"Pitch/handY\", Y)\n",
    "\n",
    "# np.save(\"Pitch/robotR\", gt_Roll)\n",
    "# np.save(\"Pitch/robotP\", GT_P)\n",
    "# np.save(\"Pitch/robotY\", GT_Y)\n",
    "\n",
    "\n",
    "# np.save(\"Yaw/handR\", Roll)\n",
    "# np.save(\"Yaw/handP\", Pitch)\n",
    "# np.save(\"Yaw/handY\", Yaw)\n",
    "\n",
    "# np.save(\"Yaw/robotR\", gt_Roll)\n",
    "# np.save(\"Yaw/robotP\", gt_Pitch)\n",
    "# np.save(\"Yaw/robotY\", gt_Yaw)\n",
    "\n",
    "# np.save(\"Yaw/handR\", R)\n",
    "# np.save(\"Yaw/handP\", P)\n",
    "# np.save(\"Yaw/handY\", Y)\n",
    "\n",
    "# np.save(\"Yaw/robotR\", GT_R)\n",
    "# np.save(\"Yaw/robotP\", GT_P)\n",
    "# np.save(\"Yaw/robotY\", GT_Y)"
   ]
  },
  {
   "cell_type": "code",
   "execution_count": null,
   "id": "96e53ee0-cd98-442c-b02f-aa114c874bdb",
   "metadata": {},
   "outputs": [],
   "source": []
  },
  {
   "cell_type": "code",
   "execution_count": null,
   "id": "cae7d4de-0135-409d-9dad-7cc6d8f9ed26",
   "metadata": {},
   "outputs": [],
   "source": []
  },
  {
   "cell_type": "code",
   "execution_count": null,
   "id": "08e67d3b-c530-42a3-b425-629d046296fe",
   "metadata": {},
   "outputs": [],
   "source": []
  },
  {
   "cell_type": "code",
   "execution_count": null,
   "id": "4c649bb6-a244-4c53-9cbc-3e1b2152aeb6",
   "metadata": {},
   "outputs": [],
   "source": []
  },
  {
   "cell_type": "code",
   "execution_count": null,
   "id": "b0787148-fb42-4305-8f24-ff254739c331",
   "metadata": {},
   "outputs": [],
   "source": []
  },
  {
   "cell_type": "code",
   "execution_count": 5,
   "id": "b98924b3-663f-449d-bd39-f69a833efaa0",
   "metadata": {},
   "outputs": [],
   "source": [
    "R = np.array(Roll[50:])\n",
    "P = np.array(Pitch[50:])\n",
    "Y = np.array(Yaw[50:])"
   ]
  },
  {
   "cell_type": "code",
   "execution_count": 6,
   "id": "2ec6d2c1-eb5e-4d4b-b7b4-030b122e7775",
   "metadata": {},
   "outputs": [
    {
     "data": {
      "image/png": "[encoded data removed]",
      "text/plain": [
       "<Figure size 432x288 with 1 Axes>"
      ]
     },
     "metadata": {
      "needs_background": "light"
     },
     "output_type": "display_data"
    }
   ],
   "source": [
    "plt.plot(R)\n",
    "plt.plot(P)\n",
    "plt.plot(Y)\n",
    "\n",
    "plt.show()"
   ]
  },
  {
   "cell_type": "code",
   "execution_count": 7,
   "id": "9b8f105c-c0bc-4065-8a5a-e4a2043615eb",
   "metadata": {},
   "outputs": [],
   "source": [
    "GT_R = np.array([O.get_quaternion()[3] for O in GT])\n",
    "GT_P = np.array([O.get_quaternion()[1] for O in GT])\n",
    "GT_Y = np.array([O.get_quaternion()[2] for O in GT])\n",
    "\n",
    "GT_R = GT_R[50:]\n",
    "GT_P = GT_P[50:]\n",
    "GT_Y = GT_Y[50:]"
   ]
  },
  {
   "cell_type": "code",
   "execution_count": 42,
   "id": "cac83dbe-a109-44e1-bb8d-ec791e3e0fce",
   "metadata": {
    "jupyter": {
     "source_hidden": true
    },
    "tags": []
   },
   "outputs": [],
   "source": [
    "def Norm(Roll, Pith, Yaw):\n",
    "\n",
    "    Min = np.array([Roll.min(), Pith.min(), Yaw.min()])\n",
    "    min_value = Min[np.argmin(Min)]\n",
    "\n",
    "    Max = np.array([Roll.max(), Pith.max(), Yaw.max()])\n",
    "    max_value = Max[np.argmax(Min)]\n",
    "\n",
    "\n",
    "    Roll_nporm = Roll.copy()\n",
    "    Roll_nporm -= min_value\n",
    "    Roll_nporm /= max_value\n",
    "\n",
    "    Pith_nporm = Pith.copy()\n",
    "    Pith_nporm -= min_value\n",
    "    Pith_nporm /= max_value\n",
    "\n",
    "    Yaw_nporm = Yaw.copy()\n",
    "    Yaw_nporm -= min_value\n",
    "    Yaw_nporm /= max_value\n",
    "    \n",
    "    return Roll_nporm, Pith_nporm, Yaw_nporm\n",
    "\n",
    "\n",
    "N_R, N_P, N_Y = Norm(R, P, Y)\n",
    "N_GT_R, N_GT_P, N_GT_Y = Norm(GT_R, GT_P, GT_Y)"
   ]
  },
  {
   "cell_type": "code",
   "execution_count": 8,
   "id": "dfcec3cb-7f44-4c5a-a695-246a46846841",
   "metadata": {},
   "outputs": [
    {
     "data": {
      "image/png": "[encoded data removed]",
      "text/plain": [
       "<Figure size 432x288 with 1 Axes>"
      ]
     },
     "metadata": {
      "needs_background": "light"
     },
     "output_type": "display_data"
    }
   ],
   "source": [
    "normP = Y.copy()\n",
    "normGtP = GT_Y.copy()\n",
    "\n",
    "\n",
    "normP -= normP.min()\n",
    "normP /= normP.max()\n",
    "\n",
    "# normGtP *= -1\n",
    "normGtP -= normGtP.min()\n",
    "normGtP /= normGtP.max()\n",
    "\n",
    "plt.plot(normP)\n",
    "plt.plot(normGtP)\n",
    "\n",
    "plt.show()"
   ]
  },
  {
   "cell_type": "code",
   "execution_count": 9,
   "id": "ad08f31e-fc40-4312-9a22-68d98db5ae60",
   "metadata": {},
   "outputs": [
    {
     "name": "stderr",
     "output_type": "stream",
     "text": [
      "Exception in thread Thread-5:\n",
      "Exception in thread Thread-6Traceback (most recent call last):\n",
      "  File \"/home/lena/anaconda3/lib/python3.9/threading.py\", line 973, in _bootstrap_inner\n",
      ":\n",
      "Traceback (most recent call last):\n",
      "  File \"/home/lena/anaconda3/lib/python3.9/threading.py\", line 973, in _bootstrap_inner\n",
      "    self.run()\n",
      "  File \"/home/lena/anaconda3/lib/python3.9/site-packages/urx/ursecmon.py\", line 286, in run\n",
      "    data = self._get_data()\n",
      "  File \"/home/lena/anaconda3/lib/python3.9/site-packages/urx/ursecmon.py\", line 333, in _get_data\n",
      "Exception in thread Thread-7:\n",
      "Traceback (most recent call last):\n",
      "  File \"/home/lena/anaconda3/lib/python3.9/threading.py\", line 973, in _bootstrap_inner\n",
      "    self.run()\n",
      "  File \"/home/lena/anaconda3/lib/python3.9/site-packages/urx/ursecmon.py\", line 286, in run\n",
      "    tmp = self._s_secondary.recv(1024)\n",
      "socket.timeout: timed out\n",
      "    self.run()\n",
      "  File \"/home/lena/anaconda3/lib/python3.9/site-packages/urx/ursecmon.py\", line 286, in run\n",
      "    data = self._get_data()\n",
      "  File \"/home/lena/anaconda3/lib/python3.9/site-packages/urx/ursecmon.py\", line 333, in _get_data\n",
      "    tmp = self._s_secondary.recv(1024)\n",
      "socket.timeout: timed out\n",
      "    data = self._get_data()\n",
      "  File \"/home/lena/anaconda3/lib/python3.9/site-packages/urx/ursecmon.py\", line 333, in _get_data\n",
      "    tmp = self._s_secondary.recv(1024)\n",
      "socket.timeout: timed out\n"
     ]
    }
   ],
   "source": [
    "# np.save(\"Pitch/handR\", R)\n",
    "# np.save(\"Pitch/handP\", P)\n",
    "# np.save(\"Pitch/handY\", Y)\n",
    "\n",
    "# np.save(\"Pitch/robotR\", GT_R)\n",
    "# np.save(\"Pitch/robotP\", GT_P)\n",
    "# np.save(\"Pitch/robotY\", GT_Y)\n",
    "\n",
    "\n",
    "# np.save(\"Roll/handR\", R)\n",
    "# np.save(\"Roll/handP\", P)\n",
    "# np.save(\"Roll/handY\", Y)\n",
    "\n",
    "# np.save(\"Roll/robotR\", GT_R)\n",
    "# np.save(\"Roll/robotP\", GT_P)\n",
    "# np.save(\"Roll/robotY\", GT_Y)\n",
    "\n",
    "# np.save(\"Yaw/handR\", R)\n",
    "# np.save(\"Yaw/handP\", P)\n",
    "# np.save(\"Yaw/handY\", Y)\n",
    "\n",
    "# np.save(\"Yaw/robotR\", GT_R)\n",
    "# np.save(\"Yaw/robotP\", GT_P)\n",
    "# np.save(\"Yaw/robotY\", GT_Y)"
   ]
  }
 ],
 "metadata": {
  "kernelspec": {
   "display_name": "Python 3 (ipykernel)",
   "language": "python",
   "name": "python3"
  },
  "language_info": {
   "codemirror_mode": {
    "name": "ipython",
    "version": 3
   },
   "file_extension": ".py",
   "mimetype": "text/x-python",
   "name": "python",
   "nbconvert_exporter": "python",
   "pygments_lexer": "ipython3",
   "version": "3.9.7"
  }
 },
 "nbformat": 4,
 "nbformat_minor": 5
}
