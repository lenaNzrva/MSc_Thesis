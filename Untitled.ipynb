{
 "cells": [
  {
   "cell_type": "code",
   "execution_count": 1,
   "id": "31b712ff-bbe1-4a15-aa6f-16dc053a1a20",
   "metadata": {},
   "outputs": [],
   "source": [
    "import mediapipe as mp\n",
    "import cv2\n",
    "import numpy as np\n",
    "import matplotlib.pyplot as plt"
   ]
  },
  {
   "cell_type": "code",
   "execution_count": 2,
   "id": "97b91155-a5eb-4b01-a490-a75860156fef",
   "metadata": {},
   "outputs": [
    {
     "name": "stderr",
     "output_type": "stream",
     "text": [
      "INFO: Created TensorFlow Lite XNNPACK delegate for CPU.\n"
     ]
    }
   ],
   "source": [
    "max_num_hands=1 \n",
    "min_det_conf=0.5 \n",
    "min_tr_conf=0.5\n",
    "\n",
    "mpHands = mp.solutions.hands\n",
    "hands = mpHands.Hands(max_num_hands=max_num_hands, \n",
    "                      min_detection_confidence=min_det_conf, \n",
    "                      min_tracking_confidence=min_tr_conf) \n",
    "mpDraw = mp.solutions.drawing_utils\n",
    "\n",
    "\n"
   ]
  },
  {
   "cell_type": "code",
   "execution_count": 11,
   "id": "fc2caf20-376c-4dba-8460-4c47febcd7e9",
   "metadata": {},
   "outputs": [],
   "source": [
    "cap = cv2.VideoCapture(0)\n",
    "\n",
    "# Check if the webcam is opened correctly\n",
    "if not cap.isOpened():\n",
    "    raise IOError(\"Cannot open webcam\")\n",
    "\n",
    "list_for_coordinates = []\n",
    "while True:\n",
    "    ret, frame = cap.read()\n",
    "    frame = cv2.resize(frame, None, fx=0.5, fy=0.5, interpolation=cv2.INTER_AREA)\n",
    "    \n",
    "    coordinates = hands.process(frame).multi_hand_landmarks\n",
    "    if coordinates:\n",
    "        for handLms in coordinates:\n",
    "            for id, lm in enumerate(handLms.landmark):\n",
    "                if id == 0:\n",
    "                    list_for_coordinates.append([lm.x, lm.y, lm.z])\n",
    "            \n",
    "        mpDraw.draw_landmarks(frame, handLms, mpHands.HAND_CONNECTIONS)\n",
    "    \n",
    "    cv2.imshow('Input', frame)\n",
    "\n",
    "    c = cv2.waitKey(1)\n",
    "    if c == 27:\n",
    "        break\n",
    "\n",
    "cap.release()\n",
    "cv2.destroyAllWindows()"
   ]
  },
  {
   "cell_type": "code",
   "execution_count": 12,
   "id": "3dfa3b17-c59e-40c1-b6c1-255e7a589124",
   "metadata": {},
   "outputs": [],
   "source": [
    "c = np.array(list_for_coordinates)"
   ]
  },
  {
   "cell_type": "code",
   "execution_count": 13,
   "id": "4be2df39-b948-4db1-9133-187cb3976aba",
   "metadata": {},
   "outputs": [
    {
     "data": {
      "text/plain": [
       "[<matplotlib.lines.Line2D at 0x7efbfc07bf70>]"
      ]
     },
     "execution_count": 13,
     "metadata": {},
     "output_type": "execute_result"
    },
    {
     "data": {
      "image/png": "[encoded data removed]",
      "text/plain": [
       "<Figure size 432x288 with 1 Axes>"
      ]
     },
     "metadata": {
      "needs_background": "light"
     },
     "output_type": "display_data"
    }
   ],
   "source": [
    "plt.plot(c[:,2])"
   ]
  },
  {
   "cell_type": "code",
   "execution_count": 7,
   "id": "0c2398ba-4bc9-4934-90aa-f45dcc1305ac",
   "metadata": {},
   "outputs": [
    {
     "data": {
      "text/plain": [
       "array([[3.51075679e-01, 7.64490783e-01, 1.65554638e-07]])"
      ]
     },
     "execution_count": 7,
     "metadata": {},
     "output_type": "execute_result"
    }
   ],
   "source": [
    "c"
   ]
  },
  {
   "cell_type": "code",
   "execution_count": null,
   "id": "99ae39ff-937f-4874-a617-eafd9a5098ae",
   "metadata": {},
   "outputs": [],
   "source": []
  }
 ],
 "metadata": {
  "kernelspec": {
   "display_name": "Python 3 (ipykernel)",
   "language": "python",
   "name": "python3"
  },
  "language_info": {
   "codemirror_mode": {
    "name": "ipython",
    "version": 3
   },
   "file_extension": ".py",
   "mimetype": "text/x-python",
   "name": "python",
   "nbconvert_exporter": "python",
   "pygments_lexer": "ipython3",
   "version": "3.9.7"
  }
 },
 "nbformat": 4,
 "nbformat_minor": 5
}
